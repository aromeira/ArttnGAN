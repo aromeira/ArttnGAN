{
  "nbformat": 4,
  "nbformat_minor": 0,
  "metadata": {
    "colab": {
      "name": "ImageCaptioning.ipynb",
      "provenance": [],
      "collapsed_sections": [
        "UVOE06wL14-i",
        "s1POaE-Q2dpb"
      ]
    },
    "kernelspec": {
      "name": "python2",
      "display_name": "Python 2"
    },
    "accelerator": "GPU"
  },
  "cells": [
    {
      "cell_type": "markdown",
      "metadata": {
        "id": "Kcgv8lcs0cWG",
        "colab_type": "text"
      },
      "source": [
        "### Image Captioning\n",
        "In this notebook I will implement the pre-trained imagecaptioning models from [Ruotian Luo](https://github.com/ruotianluo/ImageCaptioning.pytorch#generate-image-captions). The goal of this is to generate more captions for the paintings, so that the training will be broader."
      ]
    },
    {
      "cell_type": "markdown",
      "metadata": {
        "id": "UVOE06wL14-i",
        "colab_type": "text"
      },
      "source": [
        "### Requirements"
      ]
    },
    {
      "cell_type": "code",
      "metadata": {
        "id": "3RggsM669AOO",
        "colab_type": "code",
        "outputId": "df84abe2-91f6-4f99-c62e-19881ccac4bf",
        "colab": {
          "base_uri": "https://localhost:8080/",
          "height": 34
        }
      },
      "source": [
        "! python --version"
      ],
      "execution_count": 0,
      "outputs": [
        {
          "output_type": "stream",
          "text": [
            "Python 2.7.17\n"
          ],
          "name": "stdout"
        }
      ]
    },
    {
      "cell_type": "code",
      "metadata": {
        "id": "j5S3zEvA1fZo",
        "colab_type": "code",
        "outputId": "91563b00-6bb9-4979-9ba7-b4226308e80f",
        "colab": {
          "base_uri": "https://localhost:8080/",
          "height": 102
        }
      },
      "source": [
        "! git clone https://github.com/ruotianluo/ImageCaptioning.pytorch"
      ],
      "execution_count": 0,
      "outputs": [
        {
          "output_type": "stream",
          "text": [
            "Cloning into 'ImageCaptioning.pytorch'...\n",
            "remote: Enumerating objects: 497, done.\u001b[K\n",
            "Receiving objects:   0% (1/497)   \rReceiving objects:   1% (5/497)   \rReceiving objects:   2% (10/497)   \rReceiving objects:   3% (15/497)   \rReceiving objects:   4% (20/497)   \rReceiving objects:   5% (25/497)   \rReceiving objects:   6% (30/497)   \rReceiving objects:   7% (35/497)   \rReceiving objects:   8% (40/497)   \rReceiving objects:   9% (45/497)   \rReceiving objects:  10% (50/497)   \rReceiving objects:  11% (55/497)   \rReceiving objects:  12% (60/497)   \rReceiving objects:  13% (65/497)   \rReceiving objects:  14% (70/497)   \rReceiving objects:  15% (75/497)   \rReceiving objects:  16% (80/497)   \rReceiving objects:  17% (85/497)   \rReceiving objects:  18% (90/497)   \rReceiving objects:  19% (95/497)   \rReceiving objects:  20% (100/497)   \rReceiving objects:  21% (105/497)   \rReceiving objects:  22% (110/497)   \rReceiving objects:  23% (115/497)   \rReceiving objects:  24% (120/497)   \rReceiving objects:  25% (125/497)   \rReceiving objects:  26% (130/497)   \rReceiving objects:  27% (135/497)   \rReceiving objects:  28% (140/497)   \rReceiving objects:  29% (145/497)   \rReceiving objects:  30% (150/497)   \rReceiving objects:  31% (155/497)   \rReceiving objects:  32% (160/497)   \rReceiving objects:  33% (165/497)   \rReceiving objects:  34% (169/497)   \rReceiving objects:  35% (174/497)   \rReceiving objects:  36% (179/497)   \rReceiving objects:  37% (184/497)   \rReceiving objects:  38% (189/497)   \rReceiving objects:  39% (194/497)   \rReceiving objects:  40% (199/497)   \rReceiving objects:  41% (204/497)   \rReceiving objects:  42% (209/497)   \rReceiving objects:  43% (214/497)   \rReceiving objects:  44% (219/497)   \rReceiving objects:  45% (224/497)   \rReceiving objects:  46% (229/497)   \rReceiving objects:  47% (234/497)   \rReceiving objects:  48% (239/497)   \rReceiving objects:  49% (244/497)   \rReceiving objects:  50% (249/497)   \rReceiving objects:  51% (254/497)   \rReceiving objects:  52% (259/497)   \rReceiving objects:  53% (264/497)   \rReceiving objects:  54% (269/497)   \rReceiving objects:  55% (274/497)   \rReceiving objects:  56% (279/497)   \rReceiving objects:  57% (284/497)   \rReceiving objects:  58% (289/497)   \rReceiving objects:  59% (294/497)   \rReceiving objects:  60% (299/497)   \rReceiving objects:  61% (304/497)   \rReceiving objects:  62% (309/497)   \rReceiving objects:  63% (314/497)   \rReceiving objects:  64% (319/497)   \rReceiving objects:  65% (324/497)   \rReceiving objects:  66% (329/497)   \rReceiving objects:  67% (333/497)   \rReceiving objects:  68% (338/497)   \rReceiving objects:  69% (343/497)   \rReceiving objects:  70% (348/497)   \rReceiving objects:  71% (353/497)   \rReceiving objects:  72% (358/497)   \rReceiving objects:  73% (363/497)   \rReceiving objects:  74% (368/497)   \rReceiving objects:  75% (373/497)   \rReceiving objects:  76% (378/497)   \rReceiving objects:  77% (383/497)   \rReceiving objects:  78% (388/497)   \rReceiving objects:  79% (393/497)   \rReceiving objects:  80% (398/497)   \rReceiving objects:  81% (403/497)   \rReceiving objects:  82% (408/497)   \rReceiving objects:  83% (413/497)   \rReceiving objects:  84% (418/497)   \rReceiving objects:  85% (423/497)   \rReceiving objects:  86% (428/497)   \rReceiving objects:  87% (433/497)   \rReceiving objects:  88% (438/497)   \rReceiving objects:  89% (443/497)   \rReceiving objects:  90% (448/497)   \rReceiving objects:  91% (453/497)   \rReceiving objects:  92% (458/497)   \rremote: Total 497 (delta 0), reused 0 (delta 0), pack-reused 497\u001b[K\n",
            "Receiving objects:  93% (463/497)   \rReceiving objects:  94% (468/497)   \rReceiving objects:  95% (473/497)   \rReceiving objects:  96% (478/497)   \rReceiving objects:  97% (483/497)   \rReceiving objects:  98% (488/497)   \rReceiving objects:  99% (493/497)   \rReceiving objects: 100% (497/497)   \rReceiving objects: 100% (497/497), 205.39 KiB | 6.04 MiB/s, done.\n",
            "Resolving deltas:   0% (0/320)   \rResolving deltas:   2% (7/320)   \rResolving deltas:   6% (20/320)   \rResolving deltas:   9% (30/320)   \rResolving deltas:  14% (46/320)   \rResolving deltas:  18% (59/320)   \rResolving deltas:  21% (68/320)   \rResolving deltas:  25% (82/320)   \rResolving deltas:  28% (91/320)   \rResolving deltas:  33% (108/320)   \rResolving deltas:  40% (131/320)   \rResolving deltas:  48% (156/320)   \rResolving deltas:  50% (161/320)   \rResolving deltas:  51% (165/320)   \rResolving deltas:  52% (167/320)   \rResolving deltas:  53% (172/320)   \rResolving deltas:  54% (175/320)   \rResolving deltas:  60% (192/320)   \rResolving deltas:  62% (200/320)   \rResolving deltas:  63% (203/320)   \rResolving deltas:  64% (207/320)   \rResolving deltas:  68% (218/320)   \rResolving deltas:  69% (222/320)   \rResolving deltas:  74% (239/320)   \rResolving deltas:  75% (240/320)   \rResolving deltas:  80% (258/320)   \rResolving deltas:  83% (266/320)   \rResolving deltas:  85% (272/320)   \rResolving deltas:  86% (277/320)   \rResolving deltas:  87% (281/320)   \rResolving deltas:  88% (282/320)   \rResolving deltas:  90% (291/320)   \rResolving deltas:  91% (293/320)   \rResolving deltas:  94% (301/320)   \rResolving deltas:  95% (307/320)   \rResolving deltas:  97% (311/320)   \rResolving deltas:  98% (316/320)   \rResolving deltas:  99% (317/320)   \rResolving deltas: 100% (320/320)   \rResolving deltas: 100% (320/320), done.\n"
          ],
          "name": "stdout"
        }
      ]
    },
    {
      "cell_type": "code",
      "metadata": {
        "id": "9RF0UbM822yY",
        "colab_type": "code",
        "colab": {}
      },
      "source": [
        "! mv 'ImageCaptioning.pytorch' 'drive/My Drive/AttnGAN/image_captioning'"
      ],
      "execution_count": 0,
      "outputs": []
    },
    {
      "cell_type": "markdown",
      "metadata": {
        "id": "s1POaE-Q2dpb",
        "colab_type": "text"
      },
      "source": [
        "### Running"
      ]
    },
    {
      "cell_type": "code",
      "metadata": {
        "id": "_gkD1-GDWRKa",
        "colab_type": "code",
        "colab": {}
      },
      "source": [
        "import os"
      ],
      "execution_count": 0,
      "outputs": []
    },
    {
      "cell_type": "code",
      "metadata": {
        "id": "jf6602zPWXJ6",
        "colab_type": "code",
        "outputId": "a01e6964-b643-4eee-a816-adf426ab9f9e",
        "colab": {
          "base_uri": "https://localhost:8080/",
          "height": 54
        }
      },
      "source": [
        "image_dirs = os.listdir('/content/drive/My Drive/AttnGAN/data/wikiart/images')\n",
        "print(image_dirs)"
      ],
      "execution_count": 0,
      "outputs": [
        {
          "output_type": "stream",
          "text": [
            "['cubism', 'impressionism', 'neo_expressionism', 'post_impressionism', 'romanticism', 'expressionism', 'realism', 'minimalism', 'pop_art', 'rococo', 'color_field_painting', 'early_renaissance', 'neoclassicism', 'art_informel', 'baroque', 'abstract_art', 'lyrical_abstraction', 'surrealism', 'abstract_expressionism', 'magic_realism', 'northern_renaissance', 'high_renaissance']\n"
          ],
          "name": "stdout"
        }
      ]
    },
    {
      "cell_type": "code",
      "metadata": {
        "id": "gOR7WqV8U0M_",
        "colab_type": "code",
        "outputId": "81372cf9-9d53-428d-f7e2-106412e64495",
        "colab": {
          "base_uri": "https://localhost:8080/",
          "height": 34
        }
      },
      "source": [
        "%cd '/content/drive/My Drive/AttnGAN/image_captioning/ImageCaptioning.pytorch'"
      ],
      "execution_count": 0,
      "outputs": [
        {
          "output_type": "stream",
          "text": [
            "/content/drive/My Drive/AttnGAN/image_captioning/ImageCaptioning.pytorch\n"
          ],
          "name": "stdout"
        }
      ]
    },
    {
      "cell_type": "code",
      "metadata": {
        "id": "54xIO0GKUb2o",
        "colab_type": "code",
        "outputId": "8349fa29-3be3-4443-ac5c-ae991e48f5a7",
        "colab": {
          "base_uri": "https://localhost:8080/",
          "height": 411
        }
      },
      "source": [
        "# running the captioning algorithm per style folder\n",
        "model_path = 'pretrained_models/mle/updown/model-best.pth'\n",
        "infos_path = 'pretrained_models/mle/updown/infos_td-best.pkl'\n",
        "images_path = '/content/drive/My Drive/AttnGAN/data/wikiart/images/'\n",
        "\n",
        "# have to turn off dump images, to avoid creating an eval visualisation\n",
        "# added a save_text command to the code which saves the text to the right .txt file\n",
        "for folder in image_dirs:\n",
        "  folder_path = images_path + folder\n",
        "  command = 'python eval.py --model \\\"' + model_path + '\\\" --infos_path \\\"' + infos_path + '\\\" --image_folder \\\"' + folder_path + '\\\" --save_text 1 --dump_images 0' \n",
        "  print(command)\n",
        "  os.system(command)"
      ],
      "execution_count": 0,
      "outputs": [
        {
          "output_type": "stream",
          "text": [
            "python eval.py --model \"pretrained_models/mle/updown/model-best.pth\" --infos_path \"pretrained_models/mle/updown/infos_td-best.pkl\" --image_folder \"/content/drive/My Drive/AttnGAN/data/wikiart/images/cubism\" --save_text 1 --dump_images 0\n",
            "python eval.py --model \"pretrained_models/mle/updown/model-best.pth\" --infos_path \"pretrained_models/mle/updown/infos_td-best.pkl\" --image_folder \"/content/drive/My Drive/AttnGAN/data/wikiart/images/impressionism\" --save_text 1 --dump_images 0\n",
            "python eval.py --model \"pretrained_models/mle/updown/model-best.pth\" --infos_path \"pretrained_models/mle/updown/infos_td-best.pkl\" --image_folder \"/content/drive/My Drive/AttnGAN/data/wikiart/images/neo_expressionism\" --save_text 1 --dump_images 0\n",
            "python eval.py --model \"pretrained_models/mle/updown/model-best.pth\" --infos_path \"pretrained_models/mle/updown/infos_td-best.pkl\" --image_folder \"/content/drive/My Drive/AttnGAN/data/wikiart/images/post_impressionism\" --save_text 1 --dump_images 0\n",
            "python eval.py --model \"pretrained_models/mle/updown/model-best.pth\" --infos_path \"pretrained_models/mle/updown/infos_td-best.pkl\" --image_folder \"/content/drive/My Drive/AttnGAN/data/wikiart/images/romanticism\" --save_text 1 --dump_images 0\n",
            "python eval.py --model \"pretrained_models/mle/updown/model-best.pth\" --infos_path \"pretrained_models/mle/updown/infos_td-best.pkl\" --image_folder \"/content/drive/My Drive/AttnGAN/data/wikiart/images/expressionism\" --save_text 1 --dump_images 0\n",
            "python eval.py --model \"pretrained_models/mle/updown/model-best.pth\" --infos_path \"pretrained_models/mle/updown/infos_td-best.pkl\" --image_folder \"/content/drive/My Drive/AttnGAN/data/wikiart/images/realism\" --save_text 1 --dump_images 0\n",
            "python eval.py --model \"pretrained_models/mle/updown/model-best.pth\" --infos_path \"pretrained_models/mle/updown/infos_td-best.pkl\" --image_folder \"/content/drive/My Drive/AttnGAN/data/wikiart/images/minimalism\" --save_text 1 --dump_images 0\n",
            "python eval.py --model \"pretrained_models/mle/updown/model-best.pth\" --infos_path \"pretrained_models/mle/updown/infos_td-best.pkl\" --image_folder \"/content/drive/My Drive/AttnGAN/data/wikiart/images/pop_art\" --save_text 1 --dump_images 0\n",
            "python eval.py --model \"pretrained_models/mle/updown/model-best.pth\" --infos_path \"pretrained_models/mle/updown/infos_td-best.pkl\" --image_folder \"/content/drive/My Drive/AttnGAN/data/wikiart/images/rococo\" --save_text 1 --dump_images 0\n",
            "python eval.py --model \"pretrained_models/mle/updown/model-best.pth\" --infos_path \"pretrained_models/mle/updown/infos_td-best.pkl\" --image_folder \"/content/drive/My Drive/AttnGAN/data/wikiart/images/color_field_painting\" --save_text 1 --dump_images 0\n",
            "python eval.py --model \"pretrained_models/mle/updown/model-best.pth\" --infos_path \"pretrained_models/mle/updown/infos_td-best.pkl\" --image_folder \"/content/drive/My Drive/AttnGAN/data/wikiart/images/early_renaissance\" --save_text 1 --dump_images 0\n",
            "python eval.py --model \"pretrained_models/mle/updown/model-best.pth\" --infos_path \"pretrained_models/mle/updown/infos_td-best.pkl\" --image_folder \"/content/drive/My Drive/AttnGAN/data/wikiart/images/neoclassicism\" --save_text 1 --dump_images 0\n",
            "python eval.py --model \"pretrained_models/mle/updown/model-best.pth\" --infos_path \"pretrained_models/mle/updown/infos_td-best.pkl\" --image_folder \"/content/drive/My Drive/AttnGAN/data/wikiart/images/art_informel\" --save_text 1 --dump_images 0\n",
            "python eval.py --model \"pretrained_models/mle/updown/model-best.pth\" --infos_path \"pretrained_models/mle/updown/infos_td-best.pkl\" --image_folder \"/content/drive/My Drive/AttnGAN/data/wikiart/images/baroque\" --save_text 1 --dump_images 0\n",
            "python eval.py --model \"pretrained_models/mle/updown/model-best.pth\" --infos_path \"pretrained_models/mle/updown/infos_td-best.pkl\" --image_folder \"/content/drive/My Drive/AttnGAN/data/wikiart/images/abstract_art\" --save_text 1 --dump_images 0\n",
            "python eval.py --model \"pretrained_models/mle/updown/model-best.pth\" --infos_path \"pretrained_models/mle/updown/infos_td-best.pkl\" --image_folder \"/content/drive/My Drive/AttnGAN/data/wikiart/images/lyrical_abstraction\" --save_text 1 --dump_images 0\n",
            "python eval.py --model \"pretrained_models/mle/updown/model-best.pth\" --infos_path \"pretrained_models/mle/updown/infos_td-best.pkl\" --image_folder \"/content/drive/My Drive/AttnGAN/data/wikiart/images/surrealism\" --save_text 1 --dump_images 0\n",
            "python eval.py --model \"pretrained_models/mle/updown/model-best.pth\" --infos_path \"pretrained_models/mle/updown/infos_td-best.pkl\" --image_folder \"/content/drive/My Drive/AttnGAN/data/wikiart/images/abstract_expressionism\" --save_text 1 --dump_images 0\n",
            "python eval.py --model \"pretrained_models/mle/updown/model-best.pth\" --infos_path \"pretrained_models/mle/updown/infos_td-best.pkl\" --image_folder \"/content/drive/My Drive/AttnGAN/data/wikiart/images/magic_realism\" --save_text 1 --dump_images 0\n",
            "python eval.py --model \"pretrained_models/mle/updown/model-best.pth\" --infos_path \"pretrained_models/mle/updown/infos_td-best.pkl\" --image_folder \"/content/drive/My Drive/AttnGAN/data/wikiart/images/northern_renaissance\" --save_text 1 --dump_images 0\n",
            "python eval.py --model \"pretrained_models/mle/updown/model-best.pth\" --infos_path \"pretrained_models/mle/updown/infos_td-best.pkl\" --image_folder \"/content/drive/My Drive/AttnGAN/data/wikiart/images/high_renaissance\" --save_text 1 --dump_images 0\n"
          ],
          "name": "stdout"
        }
      ]
    },
    {
      "cell_type": "markdown",
      "metadata": {
        "id": "YerHPAHs2TuY",
        "colab_type": "text"
      },
      "source": [
        "\n",
        "The following evaluation creates a vis.json file which can be visualised in HTML. For this, download the created vis folder and run the following code locally. Then, visiting localhost:8000 should picture the predicted captions."
      ]
    },
    {
      "cell_type": "code",
      "metadata": {
        "id": "kGtH0OHU03Iv",
        "colab_type": "code",
        "outputId": "7690cab8-0ad4-4c3f-e1e4-9e79b56e6786",
        "colab": {
          "base_uri": "https://localhost:8080/",
          "height": 1000
        }
      },
      "source": [
        "# this eval is run on a few images that were forgotten, which i placed in a new folder\n",
        "! python eval.py --model \"pretrained_models/mle/updown/model-best.pth\" --infos_path \"pretrained_models/mle/updown/infos_td-best.pkl\" --image_folder \"/content/drive/My Drive/AttnGAN/data/wikiart/forgotten\" --num_images 10"
      ],
      "execution_count": 0,
      "outputs": [
        {
          "output_type": "stream",
          "text": [
            "DataLoaderRaw loading images from folder:  /content/drive/My Drive/AttnGAN/data/wikiart/forgotten\n",
            "0\n",
            "listing all images in directory /content/drive/My Drive/AttnGAN/data/wikiart/forgotten\n",
            "DataLoaderRaw found  2  images\n",
            "['/content/drive/My Drive/AttnGAN/data/wikiart/forgotten/1804-koch-der-tod-des-oskar-anagoria.jpg', '/content/drive/My Drive/AttnGAN/data/wikiart/forgotten/the-treachery-of-images-this-is-not-a-pipe-1948(2).jpg']\n",
            "image:  /content/drive/My Drive/AttnGAN/data/wikiart/forgotten/1804-koch-der-tod-des-oskar-anagoria.jpg\n",
            "1080000\n",
            "<built-in method size of Tensor object at 0x7fb5ce956190>\n",
            "image:  /content/drive/My Drive/AttnGAN/data/wikiart/forgotten/the-treachery-of-images-this-is-not-a-pipe-1948(2).jpg\n",
            "1176750\n",
            "<built-in method size of Tensor object at 0x7fb5ce956190>\n",
            "image:  /content/drive/My Drive/AttnGAN/data/wikiart/forgotten/1804-koch-der-tod-des-oskar-anagoria.jpg\n",
            "1080000\n",
            "<built-in method size of Tensor object at 0x7fb5ce956280>\n",
            "image:  /content/drive/My Drive/AttnGAN/data/wikiart/forgotten/the-treachery-of-images-this-is-not-a-pipe-1948(2).jpg\n",
            "1176750\n",
            "<built-in method size of Tensor object at 0x7fb5ce9562d0>\n",
            "image:  /content/drive/My Drive/AttnGAN/data/wikiart/forgotten/1804-koch-der-tod-des-oskar-anagoria.jpg\n",
            "1080000\n",
            "<built-in method size of Tensor object at 0x7fb5ce956190>\n",
            "image:  /content/drive/My Drive/AttnGAN/data/wikiart/forgotten/the-treachery-of-images-this-is-not-a-pipe-1948(2).jpg\n",
            "1176750\n",
            "<built-in method size of Tensor object at 0x7fb5ce956280>\n",
            "image:  /content/drive/My Drive/AttnGAN/data/wikiart/forgotten/1804-koch-der-tod-des-oskar-anagoria.jpg\n",
            "1080000\n",
            "<built-in method size of Tensor object at 0x7fb5ce9562d0>\n",
            "image:  /content/drive/My Drive/AttnGAN/data/wikiart/forgotten/the-treachery-of-images-this-is-not-a-pipe-1948(2).jpg\n",
            "1176750\n",
            "<built-in method size of Tensor object at 0x7fb5ce956190>\n",
            "image:  /content/drive/My Drive/AttnGAN/data/wikiart/forgotten/1804-koch-der-tod-des-oskar-anagoria.jpg\n",
            "1080000\n",
            "<built-in method size of Tensor object at 0x7fb5ce956280>\n",
            "image:  /content/drive/My Drive/AttnGAN/data/wikiart/forgotten/the-treachery-of-images-this-is-not-a-pipe-1948(2).jpg\n",
            "1176750\n",
            "<built-in method size of Tensor object at 0x7fb5ce9562d0>\n",
            "/usr/local/lib/python2.7/dist-packages/torch/nn/functional.py:1340: UserWarning: nn.functional.tanh is deprecated. Use torch.tanh instead.\n",
            "  warnings.warn(\"nn.functional.tanh is deprecated. Use torch.tanh instead.\")\n",
            "/content/drive/My Drive/AttnGAN/image_captioning/ImageCaptioning.pytorch/models/AttModel.py:416: UserWarning: Implicit dimension choice for softmax has been deprecated. Change the call to include dim=X as an argument.\n",
            "  weight = F.softmax(dot)                             # batch * att_size\n",
            "/content/drive/My Drive/AttnGAN/image_captioning/ImageCaptioning.pytorch/models/AttModel.py:143: UserWarning: Implicit dimension choice for log_softmax has been deprecated. Change the call to include dim=X as an argument.\n",
            "  logprobs = F.log_softmax(self.logit(output))\n",
            "/content/drive/My Drive/AttnGAN/image_captioning/ImageCaptioning.pytorch/models/AttModel.py:108: UserWarning: Implicit dimension choice for log_softmax has been deprecated. Change the call to include dim=X as an argument.\n",
            "  logprobs = F.log_softmax(self.logit(output))\n",
            "cp \"/content/drive/My Drive/AttnGAN/data/wikiart/forgotten/1804-koch-der-tod-des-oskar-anagoria.jpg\" vis/imgs/img1.jpg\n",
            "image 1: a group of men sitting on top of a horse\n",
            "cp \"/content/drive/My Drive/AttnGAN/data/wikiart/forgotten/the-treachery-of-images-this-is-not-a-pipe-1948(2).jpg\" vis/imgs/img2.jpg\n",
            "image 2: a close up of a sign with a picture of a bird\n",
            "cp \"/content/drive/My Drive/AttnGAN/data/wikiart/forgotten/1804-koch-der-tod-des-oskar-anagoria.jpg\" vis/imgs/img3.jpg\n",
            "image 1: a group of men sitting on top of a horse\n",
            "cp \"/content/drive/My Drive/AttnGAN/data/wikiart/forgotten/the-treachery-of-images-this-is-not-a-pipe-1948(2).jpg\" vis/imgs/img4.jpg\n",
            "image 2: a close up of a sign with a picture of a bird\n",
            "cp \"/content/drive/My Drive/AttnGAN/data/wikiart/forgotten/1804-koch-der-tod-des-oskar-anagoria.jpg\" vis/imgs/img5.jpg\n",
            "image 1: a group of men sitting on top of a horse\n",
            "cp \"/content/drive/My Drive/AttnGAN/data/wikiart/forgotten/the-treachery-of-images-this-is-not-a-pipe-1948(2).jpg\" vis/imgs/img6.jpg\n",
            "image 2: a close up of a sign with a picture of a bird\n",
            "cp \"/content/drive/My Drive/AttnGAN/data/wikiart/forgotten/1804-koch-der-tod-des-oskar-anagoria.jpg\" vis/imgs/img7.jpg\n",
            "image 1: a group of men sitting on top of a horse\n",
            "cp \"/content/drive/My Drive/AttnGAN/data/wikiart/forgotten/the-treachery-of-images-this-is-not-a-pipe-1948(2).jpg\" vis/imgs/img8.jpg\n",
            "image 2: a close up of a sign with a picture of a bird\n",
            "cp \"/content/drive/My Drive/AttnGAN/data/wikiart/forgotten/1804-koch-der-tod-des-oskar-anagoria.jpg\" vis/imgs/img9.jpg\n",
            "image 1: a group of men sitting on top of a horse\n",
            "cp \"/content/drive/My Drive/AttnGAN/data/wikiart/forgotten/the-treachery-of-images-this-is-not-a-pipe-1948(2).jpg\" vis/imgs/img10.jpg\n",
            "image 2: a close up of a sign with a picture of a bird\n",
            "evaluating validation preformance... -1/2 (0.000000)\n",
            "loss:  0.0\n"
          ],
          "name": "stdout"
        }
      ]
    }
  ]
}