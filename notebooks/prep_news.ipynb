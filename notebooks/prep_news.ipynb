{
  "nbformat": 4,
  "nbformat_minor": 0,
  "metadata": {
    "colab": {
      "name": "prep_news.ipynb",
      "provenance": [],
      "collapsed_sections": []
    },
    "kernelspec": {
      "name": "python3",
      "display_name": "Python 3"
    }
  },
  "cells": [
    {
      "cell_type": "code",
      "metadata": {
        "id": "3CoEeOziTdUw",
        "colab_type": "code",
        "colab": {}
      },
      "source": [
        "# !pip install newspaper3k\n",
        "# nltk.download('punkt')"
      ],
      "execution_count": 0,
      "outputs": []
    },
    {
      "cell_type": "code",
      "metadata": {
        "id": "DL1HBHDnkR3R",
        "colab_type": "code",
        "colab": {}
      },
      "source": [
        "import newspaper\n",
        "import nltk\n",
        "from bs4 import BeautifulSoup\n",
        "import re\n",
        "from newspaper import Article\n",
        "import csv\n",
        "import requests\n",
        "import pandas as pd\n",
        "from google.colab import files"
      ],
      "execution_count": 0,
      "outputs": []
    },
    {
      "cell_type": "code",
      "metadata": {
        "id": "eOfPA43Jx-td",
        "colab_type": "code",
        "colab": {}
      },
      "source": [
        "def get_first_article_info(url):\n",
        "  '''scrapes the first article on the frontpage of a day page\n",
        "  on the nyt website, returns a list with its title, url, \n",
        "  description and keywords.'''\n",
        "\n",
        "  # scrape the front page with beautiful soup\n",
        "  html = requests.get(url)\n",
        "  soup = BeautifulSoup(html.text, \"html.parser\")\n",
        "  \n",
        "  # getting the first article by scraping its class\n",
        "  newsoup = soup.find(\"div\", {\"class\": \"css-10wtrbd\"})\n",
        "\n",
        "  # the url \n",
        "  url_ending = newsoup.a['href']\n",
        "  article_url = 'https://www.nytimes.com' + url_ending\n",
        "  # the title \n",
        "  article_title = newsoup.h2.getText()\n",
        "  # the article description on the front page\n",
        "  article_info = newsoup.find('p').getText()\n",
        "\n",
        "  # using newspaper library to extract keywords\n",
        "  article = Article(article_url)\n",
        "  article.download()\n",
        "  article.parse()\n",
        "  article.nlp()\n",
        "\n",
        "  return [article_title, article_url, article_info, article.keywords]"
      ],
      "execution_count": 0,
      "outputs": []
    },
    {
      "cell_type": "code",
      "metadata": {
        "id": "gqyuhtAYzCYU",
        "colab_type": "code",
        "outputId": "955c3d3a-6b87-473b-d0a6-3f9c60f4f8a5",
        "colab": {
          "base_uri": "https://localhost:8080/",
          "height": 360
        }
      },
      "source": [
        "get_first_article_info('https://www.nytimes.com/issue/todayspaper/2020/03/01/todays-new-york-times')"
      ],
      "execution_count": 0,
      "outputs": [
        {
          "output_type": "execute_result",
          "data": {
            "text/plain": [
              "['Winning South Carolina, Biden Makes Case Against Sanders: ‘Win Big or Lose’',\n",
              " 'https://www.nytimes.com/2020/02/29/us/politics/joe-biden-south-carolina-primary.html',\n",
              " 'Joseph R. Biden Jr. drew on his decades-long relationships and leveraged his close bond with black voters to wrap up a state long considered his stronghold.',\n",
              " ['winning',\n",
              "  'lose',\n",
              "  'sanders',\n",
              "  'big',\n",
              "  'states',\n",
              "  'campaign',\n",
              "  'case',\n",
              "  'makes',\n",
              "  'carolina',\n",
              "  'support',\n",
              "  'south',\n",
              "  'biden',\n",
              "  'mr',\n",
              "  'voters',\n",
              "  'win',\n",
              "  'super']]"
            ]
          },
          "metadata": {
            "tags": []
          },
          "execution_count": 49
        }
      ]
    },
    {
      "cell_type": "code",
      "metadata": {
        "id": "YxlWAvUA0xkA",
        "colab_type": "code",
        "colab": {}
      },
      "source": [
        "# getting urls of all nyt front pages in february\n",
        "feb_urls = []\n",
        "for i in range(1, 9):\n",
        "  feb_urls.append(['https://www.nytimes.com/issue/todayspaper/2020/02/0' + str(i) + '/todays-new-york-times', '2020/02/0' + str(i)])\n",
        "for i in range(10,28): \n",
        "  feb_urls.append(['https://www.nytimes.com/issue/todayspaper/2020/02/' + str(i) + '/todays-new-york-times', '2020/02/0' + str(i)])"
      ],
      "execution_count": 0,
      "outputs": []
    },
    {
      "cell_type": "code",
      "metadata": {
        "id": "-i76R0Qa1GIf",
        "colab_type": "code",
        "colab": {}
      },
      "source": [
        "def get_month_info(urls):\n",
        "  lo_info = []\n",
        "  for url, date in urls:\n",
        "    info = get_first_article_info(url)\n",
        "    info.append(date)\n",
        "    lo_info.append(info)\n",
        "  return lo_info"
      ],
      "execution_count": 0,
      "outputs": []
    },
    {
      "cell_type": "code",
      "metadata": {
        "id": "5kL06ROu4oeV",
        "colab_type": "code",
        "colab": {}
      },
      "source": [
        "feb_news = get_month_info(feb_urls)"
      ],
      "execution_count": 0,
      "outputs": []
    },
    {
      "cell_type": "code",
      "metadata": {
        "id": "aRuPg0J3T4dM",
        "colab_type": "code",
        "outputId": "dc4f97e5-af3a-49e2-a19d-c42eccc7bbe8",
        "colab": {
          "base_uri": "https://localhost:8080/",
          "height": 289
        }
      },
      "source": [
        "# creating df from the info\n",
        "df = pd.DataFrame(feb_news, columns=['title', 'url','description', 'keywords', 'date']) \n",
        "df[:5] "
      ],
      "execution_count": 0,
      "outputs": [
        {
          "output_type": "execute_result",
          "data": {
            "text/html": [
              "<div>\n",
              "<style scoped>\n",
              "    .dataframe tbody tr th:only-of-type {\n",
              "        vertical-align: middle;\n",
              "    }\n",
              "\n",
              "    .dataframe tbody tr th {\n",
              "        vertical-align: top;\n",
              "    }\n",
              "\n",
              "    .dataframe thead th {\n",
              "        text-align: right;\n",
              "    }\n",
              "</style>\n",
              "<table border=\"1\" class=\"dataframe\">\n",
              "  <thead>\n",
              "    <tr style=\"text-align: right;\">\n",
              "      <th></th>\n",
              "      <th>title</th>\n",
              "      <th>url</th>\n",
              "      <th>description</th>\n",
              "      <th>keywords</th>\n",
              "      <th>date</th>\n",
              "    </tr>\n",
              "  </thead>\n",
              "  <tbody>\n",
              "    <tr>\n",
              "      <th>0</th>\n",
              "      <td>Republicans Block Impeachment Witnesses, Clear...</td>\n",
              "      <td>https://www.nytimes.com/2020/01/31/us/politics...</td>\n",
              "      <td>The narrow vote came after Republican senators...</td>\n",
              "      <td>[republicans, acquittal, trump, clearing, impe...</td>\n",
              "      <td>2020/02/01</td>\n",
              "    </tr>\n",
              "    <tr>\n",
              "      <th>1</th>\n",
              "      <td>While Stained in History, Trump Will Emerge Fr...</td>\n",
              "      <td>https://www.nytimes.com/2020/02/01/us/politics...</td>\n",
              "      <td>His acquittal in the Senate assured, the embol...</td>\n",
              "      <td>[stained, reelection, emerge, trump, unshackle...</td>\n",
              "      <td>2020/02/02</td>\n",
              "    </tr>\n",
              "    <tr>\n",
              "      <th>2</th>\n",
              "      <td>SARS Stung the Global Economy. The Coronavirus...</td>\n",
              "      <td>https://www.nytimes.com/2020/02/03/business/ec...</td>\n",
              "      <td>In the nearly 20 years since SARS, China’s imp...</td>\n",
              "      <td>[global, economy, sars, coronavirus, holiday, ...</td>\n",
              "      <td>2020/02/03</td>\n",
              "    </tr>\n",
              "    <tr>\n",
              "      <th>3</th>\n",
              "      <td>Delays Mar Iowa Caucuses as Democrats Start No...</td>\n",
              "      <td>https://www.nytimes.com/2020/02/03/us/politics...</td>\n",
              "      <td>A “quality control” issue with a new system of...</td>\n",
              "      <td>[world, dont, reliable, start, iowa, caucuses,...</td>\n",
              "      <td>2020/02/04</td>\n",
              "    </tr>\n",
              "    <tr>\n",
              "      <th>4</th>\n",
              "      <td>Trump Claims End of ‘American Decline’ While A...</td>\n",
              "      <td>https://www.nytimes.com/2020/02/05/us/politics...</td>\n",
              "      <td>The interactions between President Trump and S...</td>\n",
              "      <td>[trump, american, decline, impeachment, nation...</td>\n",
              "      <td>2020/02/05</td>\n",
              "    </tr>\n",
              "  </tbody>\n",
              "</table>\n",
              "</div>"
            ],
            "text/plain": [
              "                                               title  ...        date\n",
              "0  Republicans Block Impeachment Witnesses, Clear...  ...  2020/02/01\n",
              "1  While Stained in History, Trump Will Emerge Fr...  ...  2020/02/02\n",
              "2  SARS Stung the Global Economy. The Coronavirus...  ...  2020/02/03\n",
              "3  Delays Mar Iowa Caucuses as Democrats Start No...  ...  2020/02/04\n",
              "4  Trump Claims End of ‘American Decline’ While A...  ...  2020/02/05\n",
              "\n",
              "[5 rows x 5 columns]"
            ]
          },
          "metadata": {
            "tags": []
          },
          "execution_count": 61
        }
      ]
    },
    {
      "cell_type": "code",
      "metadata": {
        "id": "wSKurRm2W30C",
        "colab_type": "code",
        "colab": {}
      },
      "source": [
        "# save the df as csv file and download it locally\n",
        "df.to_csv('feb_news_info.csv') \n",
        "files.download('feb_news_info.csv')"
      ],
      "execution_count": 0,
      "outputs": []
    }
  ]
}