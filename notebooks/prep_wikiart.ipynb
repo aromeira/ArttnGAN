{
  "nbformat": 4,
  "nbformat_minor": 0,
  "metadata": {
    "colab": {
      "name": "prep-wikiart.ipynb",
      "provenance": [],
      "collapsed_sections": [
        "kwjPHkaD22j9",
        "TtfawrriNsJ-"
      ]
    },
    "kernelspec": {
      "name": "python3",
      "display_name": "Python 3"
    }
  },
  "cells": [
    {
      "cell_type": "markdown",
      "metadata": {
        "id": "WJ8MsvkpYUoe",
        "colab_type": "text"
      },
      "source": [
        "### Imports"
      ]
    },
    {
      "cell_type": "code",
      "metadata": {
        "id": "s57kcJUAkzom",
        "colab_type": "code",
        "colab": {}
      },
      "source": [
        "# don't forget to press \"mount drive\" on the left!"
      ],
      "execution_count": 0,
      "outputs": []
    },
    {
      "cell_type": "code",
      "metadata": {
        "id": "wvn7__XbHAQL",
        "colab_type": "code",
        "outputId": "d5e5a5eb-f644-4e8d-f3ad-d1e612d69427",
        "colab": {
          "base_uri": "https://localhost:8080/",
          "height": 428
        }
      },
      "source": [
        "!pip install ImageScraper # this is an extension that scrapes images from web pages"
      ],
      "execution_count": 0,
      "outputs": [
        {
          "output_type": "stream",
          "text": [
            "Collecting ImageScraper\n",
            "  Downloading https://files.pythonhosted.org/packages/43/4b/e1e2af3b0892cf55fe4db06ce16e6d1d41c6bb95ae208b52109316da948c/ImageScraper-2.0.7-py2.py3-none-any.whl\n",
            "Requirement already satisfied: future>=0.14.3 in /usr/local/lib/python3.6/dist-packages (from ImageScraper) (0.16.0)\n",
            "Collecting SimplePool\n",
            "  Downloading https://files.pythonhosted.org/packages/5f/05/1caf229f0baccbbc01978b4c77269e602125815403a7fb1079e63b83be05/SimplePool-0.1.tar.gz\n",
            "Collecting setproctitle>=1.1.8\n",
            "  Downloading https://files.pythonhosted.org/packages/5a/0d/dc0d2234aacba6cf1a729964383e3452c52096dc695581248b548786f2b3/setproctitle-1.1.10.tar.gz\n",
            "Requirement already satisfied: lxml>=3.2.3 in /usr/local/lib/python3.6/dist-packages (from ImageScraper) (4.2.6)\n",
            "Requirement already satisfied: requests>=2.1.0 in /usr/local/lib/python3.6/dist-packages (from ImageScraper) (2.21.0)\n",
            "Requirement already satisfied: idna<2.9,>=2.5 in /usr/local/lib/python3.6/dist-packages (from requests>=2.1.0->ImageScraper) (2.8)\n",
            "Requirement already satisfied: certifi>=2017.4.17 in /usr/local/lib/python3.6/dist-packages (from requests>=2.1.0->ImageScraper) (2019.11.28)\n",
            "Requirement already satisfied: chardet<3.1.0,>=3.0.2 in /usr/local/lib/python3.6/dist-packages (from requests>=2.1.0->ImageScraper) (3.0.4)\n",
            "Requirement already satisfied: urllib3<1.25,>=1.21.1 in /usr/local/lib/python3.6/dist-packages (from requests>=2.1.0->ImageScraper) (1.24.3)\n",
            "Building wheels for collected packages: SimplePool, setproctitle\n",
            "  Building wheel for SimplePool (setup.py) ... \u001b[?25l\u001b[?25hdone\n",
            "  Created wheel for SimplePool: filename=SimplePool-0.1-cp36-none-any.whl size=26426 sha256=24c3cd4e746e7a4d0c9454b8cb124d4abbd6eada0fc509ecb9812cf3588b48c5\n",
            "  Stored in directory: /root/.cache/pip/wheels/ed/66/74/34d30b25b968ba59b2872e551dd962b883441f3772d835ff02\n",
            "  Building wheel for setproctitle (setup.py) ... \u001b[?25l\u001b[?25hdone\n",
            "  Created wheel for setproctitle: filename=setproctitle-1.1.10-cp36-cp36m-linux_x86_64.whl size=33917 sha256=c4e1fb101e6bceccc4c0a14af4b2bb4b038acd56ef992e4185128c511418fc83\n",
            "  Stored in directory: /root/.cache/pip/wheels/e6/b1/a6/9719530228e258eba904501fef99d5d85c80d52bd8f14438a3\n",
            "Successfully built SimplePool setproctitle\n",
            "Installing collected packages: SimplePool, setproctitle, ImageScraper\n",
            "Successfully installed ImageScraper-2.0.7 SimplePool-0.1 setproctitle-1.1.10\n"
          ],
          "name": "stdout"
        }
      ]
    },
    {
      "cell_type": "code",
      "metadata": {
        "id": "KcdsBThkZ-P-",
        "colab_type": "code",
        "colab": {}
      },
      "source": [
        "import pandas as pd\n",
        "import image_scraper \n",
        "import shutil\n",
        "import os\n",
        "import urllib.request"
      ],
      "execution_count": 0,
      "outputs": []
    },
    {
      "cell_type": "markdown",
      "metadata": {
        "id": "c5Lg1ymQYZnH",
        "colab_type": "text"
      },
      "source": [
        "### Create and clean dataframe "
      ]
    },
    {
      "cell_type": "code",
      "metadata": {
        "id": "2RLWxRJFcPuu",
        "colab_type": "code",
        "colab": {}
      },
      "source": [
        "path = '/content/drive/My Drive/colab_notebooks/data/wikiart_info.tsv'\n",
        "\n",
        "# create df\n",
        "df = pd.read_csv(path, sep='\\t')\n",
        "df = df.drop(['ID', 'Artist Info URL'], axis=1) # delete stuff I don't need \n",
        "\n",
        "# get the name of the file and create a new column for it in the df\n",
        "# and also get the right path name (with categories included)\n",
        "name_list = []\n",
        "paths_list = []\n",
        "for url in df['Image URL']:\n",
        "  index = df.loc[df['Image URL']== url].index[0] # gets the row index\n",
        "  category = df['Category'].iloc[index].rsplit(',')[0] # some contain multiple categories, we only want the first\n",
        "  clean_category = category.lower().replace(\"-\", \"_\").replace(\" \", \"_\")\n",
        "  \n",
        "  file_name = url.rsplit('/', 1)[-1] # takes filename from url\n",
        "  name_list.append(file_name)\n",
        "  \n",
        "  image_path = '/' + clean_category + '/' + file_name \n",
        "  paths_list.append(image_path)\n",
        "\n",
        "df['file name'] = name_list\n",
        "df['path'] = paths_list"
      ],
      "execution_count": 0,
      "outputs": []
    },
    {
      "cell_type": "code",
      "metadata": {
        "id": "8BTDWScpfn0S",
        "colab_type": "code",
        "outputId": "4a9d4bb9-4f8b-471f-831a-7aa6b2203544",
        "colab": {
          "base_uri": "https://localhost:8080/",
          "height": 496
        }
      },
      "source": [
        "df[:5] # this is what the df looks like"
      ],
      "execution_count": 0,
      "outputs": [
        {
          "output_type": "execute_result",
          "data": {
            "text/html": [
              "<div>\n",
              "<style scoped>\n",
              "    .dataframe tbody tr th:only-of-type {\n",
              "        vertical-align: middle;\n",
              "    }\n",
              "\n",
              "    .dataframe tbody tr th {\n",
              "        vertical-align: top;\n",
              "    }\n",
              "\n",
              "    .dataframe thead th {\n",
              "        text-align: right;\n",
              "    }\n",
              "</style>\n",
              "<table border=\"1\" class=\"dataframe\">\n",
              "  <thead>\n",
              "    <tr style=\"text-align: right;\">\n",
              "      <th></th>\n",
              "      <th>Category</th>\n",
              "      <th>Artist</th>\n",
              "      <th>Title</th>\n",
              "      <th>Year</th>\n",
              "      <th>Image URL</th>\n",
              "      <th>Painting Info URL</th>\n",
              "      <th>file name</th>\n",
              "      <th>path</th>\n",
              "    </tr>\n",
              "  </thead>\n",
              "  <tbody>\n",
              "    <tr>\n",
              "      <th>0</th>\n",
              "      <td>Impressionism</td>\n",
              "      <td>Charles Courtney Curran</td>\n",
              "      <td>In the Luxembourg Garden</td>\n",
              "      <td>1889</td>\n",
              "      <td>https://use2-uploads3.wikiart.org/00123/images...</td>\n",
              "      <td>https://www.wikiart.org/en/charles-courtney-cu...</td>\n",
              "      <td>in-the-luxembourg-garden-1889.jpg</td>\n",
              "      <td>/impressionism/in-the-luxembourg-garden-1889.jpg</td>\n",
              "    </tr>\n",
              "    <tr>\n",
              "      <th>1</th>\n",
              "      <td>Neo-Expressionism</td>\n",
              "      <td>Keith Haring</td>\n",
              "      <td>The Marriage of Heaven and Hell</td>\n",
              "      <td>1984</td>\n",
              "      <td>https://use2-uploads1.wikiart.org/images/keith...</td>\n",
              "      <td>https://www.wikiart.org/en/keith-haring/the-ma...</td>\n",
              "      <td>the-marriage-of-heaven-and-hell-1984.jpg</td>\n",
              "      <td>/neo_expressionism/the-marriage-of-heaven-and-...</td>\n",
              "    </tr>\n",
              "    <tr>\n",
              "      <th>2</th>\n",
              "      <td>Post-Impressionism</td>\n",
              "      <td>Jozsef Rippl-Ronai</td>\n",
              "      <td>Uncle Piacsek in front of the Black Sideboard</td>\n",
              "      <td>1906</td>\n",
              "      <td>https://use2-uploads3.wikiart.org/images/j-zse...</td>\n",
              "      <td>https://www.wikiart.org/en/jozsef-rippl-ronai/...</td>\n",
              "      <td>uncle-piacsek-in-front-of-the-black-sideboard-...</td>\n",
              "      <td>/post_impressionism/uncle-piacsek-in-front-of-...</td>\n",
              "    </tr>\n",
              "    <tr>\n",
              "      <th>3</th>\n",
              "      <td>Cubism</td>\n",
              "      <td>Vadym Meller</td>\n",
              "      <td>Monk. For the Play &amp;#39;Mazeppa&amp;#39;</td>\n",
              "      <td>1920</td>\n",
              "      <td>https://use2-uploads2.wikiart.org/00124/images...</td>\n",
              "      <td>https://www.wikiart.org/en/vadym-meller/monk-f...</td>\n",
              "      <td>monk-for-the-play-mazeppa-1920.jpg</td>\n",
              "      <td>/cubism/monk-for-the-play-mazeppa-1920.jpg</td>\n",
              "    </tr>\n",
              "    <tr>\n",
              "      <th>4</th>\n",
              "      <td>Romanticism</td>\n",
              "      <td>David Wilkie</td>\n",
              "      <td>The Defence of Sarago&amp;#231;a</td>\n",
              "      <td>1828</td>\n",
              "      <td>https://use2-uploads6.wikiart.org/images/david...</td>\n",
              "      <td>https://www.wikiart.org/en/david-wilkie/the-de...</td>\n",
              "      <td>the-defence-of-sarago-a.jpg</td>\n",
              "      <td>/romanticism/the-defence-of-sarago-a.jpg</td>\n",
              "    </tr>\n",
              "  </tbody>\n",
              "</table>\n",
              "</div>"
            ],
            "text/plain": [
              "             Category  ...                                               path\n",
              "0       Impressionism  ...   /impressionism/in-the-luxembourg-garden-1889.jpg\n",
              "1   Neo-Expressionism  ...  /neo_expressionism/the-marriage-of-heaven-and-...\n",
              "2  Post-Impressionism  ...  /post_impressionism/uncle-piacsek-in-front-of-...\n",
              "3              Cubism  ...         /cubism/monk-for-the-play-mazeppa-1920.jpg\n",
              "4         Romanticism  ...           /romanticism/the-defence-of-sarago-a.jpg\n",
              "\n",
              "[5 rows x 8 columns]"
            ]
          },
          "metadata": {
            "tags": []
          },
          "execution_count": 5
        }
      ]
    },
    {
      "cell_type": "code",
      "metadata": {
        "id": "KymAACGkWI-0",
        "colab_type": "code",
        "colab": {}
      },
      "source": [
        "# create a folder for each category\n",
        "categories = df[\"Category\"].unique() # gets all unique values of the Category column\n",
        "path = '/content/drive/My Drive/AttnGAN/data/wikiart/images/'\n",
        "for category in categories:\n",
        "  first_cat = category.rsplit(',')[0] # only take the first category (some have multiple)\n",
        "  clean_category = first_cat.lower().replace(\"-\", \"_\").replace(\" \", \"_\")\n",
        "  cat_path = path + clean_category + '/'\n",
        "  if os.path.exists(cat_path):\n",
        "    continue\n",
        "  os.mkdir(cat_path)"
      ],
      "execution_count": 0,
      "outputs": []
    },
    {
      "cell_type": "code",
      "metadata": {
        "id": "WCa2zHSBN5MZ",
        "colab_type": "code",
        "colab": {}
      },
      "source": [
        "# move image from the download folder to the right datafolder\n",
        "def move_image(image_name):\n",
        "  old_path = '/content/drive/My Drive/colab_notebooks/data/paintings/' + image_name\n",
        "  \n",
        "  index = df.loc[df['file name']== image_name].index[0]\n",
        "  image_path = df['path'].iloc[index]\n",
        "  new_path = '/content/drive/My Drive/AttnGAN/data/wikiart/images' + image_path\n",
        "\n",
        "  if os.path.exists(old_path) and not os.path.exists(new_path):\n",
        "    shutil.move(old_path, new_path)\n",
        "\n",
        "# to move all the images \n",
        "def move_images(df):\n",
        "  for file in df['file name']:\n",
        "    move_image(file)"
      ],
      "execution_count": 0,
      "outputs": []
    },
    {
      "cell_type": "code",
      "metadata": {
        "id": "b-hY_3NVbiMg",
        "colab_type": "code",
        "colab": {}
      },
      "source": [
        "move_image(\"a-pool-1935.jpg\") # works!!! "
      ],
      "execution_count": 0,
      "outputs": []
    },
    {
      "cell_type": "code",
      "metadata": {
        "id": "hDzu0uTDCIZh",
        "colab_type": "code",
        "colab": {}
      },
      "source": [
        "move_images(df)"
      ],
      "execution_count": 0,
      "outputs": []
    },
    {
      "cell_type": "markdown",
      "metadata": {
        "id": "u9KeEwIhYlUI",
        "colab_type": "text"
      },
      "source": [
        "### Scrape images"
      ]
    },
    {
      "cell_type": "code",
      "metadata": {
        "id": "rM6LCmv7Aczk",
        "colab_type": "code",
        "colab": {}
      },
      "source": [
        "def scrape_image(url):\n",
        "  # get rid of https://, imagescraper doesn't take that\n",
        "  new_url = url[8:]\n",
        "\n",
        "  # this says: activete image-scraper, save the image to the paintings folder\n",
        "  # and take maximal 1 image from the url (this sometimes takes the wrong one\n",
        "  # but idk what to do about that)\n",
        "  command = \"image-scraper -s paintings -m 1 \" + new_url\n",
        "  os.system(command)\n",
        "\n",
        "# scrape every image from the list; this takes long! 1 min per 6-8 images for our dataset \n",
        "def scrape_all_images(image_url_list):\n",
        "  for url in image_url_list:\n",
        "    scrape_image(url)\n",
        "    print(\"image scraped!\", url)"
      ],
      "execution_count": 0,
      "outputs": []
    },
    {
      "cell_type": "code",
      "metadata": {
        "id": "oX3UTB_gtuke",
        "colab_type": "code",
        "colab": {}
      },
      "source": [
        "os.chdir('/content/drive/My Drive/colab_notebooks/data')\n",
        "scrape_all_images(new_urls)"
      ],
      "execution_count": 0,
      "outputs": []
    },
    {
      "cell_type": "code",
      "metadata": {
        "id": "DOfqIV4UEC1q",
        "colab_type": "code",
        "colab": {}
      },
      "source": [
        "# create new list of URLs from the images \n",
        "# that haven't been downloaded yet\n",
        "def get_urls(df):\n",
        "  urls = []\n",
        "  data_path = '/content/drive/My Drive/colab_notebooks/data/paintings'\n",
        "  \n",
        "  for name in df['file name']:\n",
        "    file_path = data_path + '/' + name\n",
        "    \n",
        "    if os.path.exists(file_path):\n",
        "      continue\n",
        "    index = df.loc[df['file name']== name].index[0]\n",
        "    image_url = df['Painting Info URL'].iloc[index]\n",
        "    urls.append(image_url)\n",
        "  \n",
        "  return urls"
      ],
      "execution_count": 0,
      "outputs": []
    },
    {
      "cell_type": "code",
      "metadata": {
        "id": "GTSRtnmCIAHj",
        "colab_type": "code",
        "colab": {}
      },
      "source": [
        "# Function to rename multiple files\n",
        "# --> lowering their filename \n",
        "def rename_files(): \n",
        "    data_path = '/content/drive/My Drive/colab_notebooks/data/paintings'\n",
        "      \n",
        "    for filename in os.listdir(data_path): \n",
        "      new_filename = filename.lower()\n",
        "      original_path = data_path + '/' + filename\n",
        "      new_path = data_path + '/' + new_filename\n",
        "      os.rename(original_path, new_path) "
      ],
      "execution_count": 0,
      "outputs": []
    },
    {
      "cell_type": "code",
      "metadata": {
        "id": "nI0KNE8SJVSA",
        "colab_type": "code",
        "colab": {}
      },
      "source": [
        "rename_files()"
      ],
      "execution_count": 0,
      "outputs": []
    },
    {
      "cell_type": "code",
      "metadata": {
        "id": "4IvBDteYSw3p",
        "colab_type": "code",
        "outputId": "1f41308f-874e-40cd-82a4-4218048a3167",
        "colab": {
          "base_uri": "https://localhost:8080/",
          "height": 34
        }
      },
      "source": [
        "all_urls = image_url_list = df['Painting Info URL'].tolist()\n",
        "new_urls = get_urls(df)\n",
        "print(len(new_urls), len(all_urls))"
      ],
      "execution_count": 0,
      "outputs": [
        {
          "output_type": "stream",
          "text": [
            "4119 4119\n"
          ],
          "name": "stdout"
        }
      ]
    },
    {
      "cell_type": "code",
      "metadata": {
        "id": "KeTiePwxKtV7",
        "colab_type": "code",
        "colab": {}
      },
      "source": [
        "scrape_all_images(new_urls)"
      ],
      "execution_count": 0,
      "outputs": []
    },
    {
      "cell_type": "code",
      "metadata": {
        "id": "hY3QcWah50HA",
        "colab_type": "code",
        "outputId": "6f132ef5-94d4-42e3-fd46-6bd50f2a2f35",
        "colab": {
          "base_uri": "https://localhost:8080/",
          "height": 898
        }
      },
      "source": [
        "# some images are not properly downloaded \n",
        "# create a new df with the ones that are there.\n",
        "image_df = pd.DataFrame(columns = ['Category', 'Artist', 'Title', 'Year', 'Image URL',\n",
        "                                 'Painting Info URL', 'file name', 'path'])\n",
        "\n",
        "for i in range(len(df)):\n",
        "  image_path = df['path'].iloc[i]\n",
        "  full_path = '/content/drive/My Drive/AttnGAN/data/wikiart/images' + image_path\n",
        "  \n",
        "  if os.path.exists(full_path):\n",
        "    image_df = image_df.append(df.iloc[i], ignore_index=True)\n",
        "\n",
        "image_df"
      ],
      "execution_count": 0,
      "outputs": [
        {
          "output_type": "execute_result",
          "data": {
            "text/html": [
              "<div>\n",
              "<style scoped>\n",
              "    .dataframe tbody tr th:only-of-type {\n",
              "        vertical-align: middle;\n",
              "    }\n",
              "\n",
              "    .dataframe tbody tr th {\n",
              "        vertical-align: top;\n",
              "    }\n",
              "\n",
              "    .dataframe thead th {\n",
              "        text-align: right;\n",
              "    }\n",
              "</style>\n",
              "<table border=\"1\" class=\"dataframe\">\n",
              "  <thead>\n",
              "    <tr style=\"text-align: right;\">\n",
              "      <th></th>\n",
              "      <th>Category</th>\n",
              "      <th>Artist</th>\n",
              "      <th>Title</th>\n",
              "      <th>Year</th>\n",
              "      <th>Image URL</th>\n",
              "      <th>Painting Info URL</th>\n",
              "      <th>file name</th>\n",
              "      <th>path</th>\n",
              "    </tr>\n",
              "  </thead>\n",
              "  <tbody>\n",
              "    <tr>\n",
              "      <th>0</th>\n",
              "      <td>Impressionism</td>\n",
              "      <td>Charles Courtney Curran</td>\n",
              "      <td>In the Luxembourg Garden</td>\n",
              "      <td>1889</td>\n",
              "      <td>https://use2-uploads3.wikiart.org/00123/images...</td>\n",
              "      <td>https://www.wikiart.org/en/charles-courtney-cu...</td>\n",
              "      <td>in-the-luxembourg-garden-1889.jpg</td>\n",
              "      <td>/impressionism/in-the-luxembourg-garden-1889.jpg</td>\n",
              "    </tr>\n",
              "    <tr>\n",
              "      <th>1</th>\n",
              "      <td>Neo-Expressionism</td>\n",
              "      <td>Keith Haring</td>\n",
              "      <td>The Marriage of Heaven and Hell</td>\n",
              "      <td>1984</td>\n",
              "      <td>https://use2-uploads1.wikiart.org/images/keith...</td>\n",
              "      <td>https://www.wikiart.org/en/keith-haring/the-ma...</td>\n",
              "      <td>the-marriage-of-heaven-and-hell-1984.jpg</td>\n",
              "      <td>/neo_expressionism/the-marriage-of-heaven-and-...</td>\n",
              "    </tr>\n",
              "    <tr>\n",
              "      <th>2</th>\n",
              "      <td>Post-Impressionism</td>\n",
              "      <td>Jozsef Rippl-Ronai</td>\n",
              "      <td>Uncle Piacsek in front of the Black Sideboard</td>\n",
              "      <td>1906</td>\n",
              "      <td>https://use2-uploads3.wikiart.org/images/j-zse...</td>\n",
              "      <td>https://www.wikiart.org/en/jozsef-rippl-ronai/...</td>\n",
              "      <td>uncle-piacsek-in-front-of-the-black-sideboard-...</td>\n",
              "      <td>/post_impressionism/uncle-piacsek-in-front-of-...</td>\n",
              "    </tr>\n",
              "    <tr>\n",
              "      <th>3</th>\n",
              "      <td>Cubism</td>\n",
              "      <td>Vadym Meller</td>\n",
              "      <td>Monk. For the Play &amp;#39;Mazeppa&amp;#39;</td>\n",
              "      <td>1920</td>\n",
              "      <td>https://use2-uploads2.wikiart.org/00124/images...</td>\n",
              "      <td>https://www.wikiart.org/en/vadym-meller/monk-f...</td>\n",
              "      <td>monk-for-the-play-mazeppa-1920.jpg</td>\n",
              "      <td>/cubism/monk-for-the-play-mazeppa-1920.jpg</td>\n",
              "    </tr>\n",
              "    <tr>\n",
              "      <th>4</th>\n",
              "      <td>Romanticism</td>\n",
              "      <td>David Wilkie</td>\n",
              "      <td>The Defence of Sarago&amp;#231;a</td>\n",
              "      <td>1828</td>\n",
              "      <td>https://use2-uploads6.wikiart.org/images/david...</td>\n",
              "      <td>https://www.wikiart.org/en/david-wilkie/the-de...</td>\n",
              "      <td>the-defence-of-sarago-a.jpg</td>\n",
              "      <td>/romanticism/the-defence-of-sarago-a.jpg</td>\n",
              "    </tr>\n",
              "    <tr>\n",
              "      <th>...</th>\n",
              "      <td>...</td>\n",
              "      <td>...</td>\n",
              "      <td>...</td>\n",
              "      <td>...</td>\n",
              "      <td>...</td>\n",
              "      <td>...</td>\n",
              "      <td>...</td>\n",
              "      <td>...</td>\n",
              "    </tr>\n",
              "    <tr>\n",
              "      <th>3889</th>\n",
              "      <td>Color Field Painting</td>\n",
              "      <td>Rupprecht Geiger</td>\n",
              "      <td>OE 260</td>\n",
              "      <td>1957</td>\n",
              "      <td>https://use2-uploads7.wikiart.org/images/ruppr...</td>\n",
              "      <td>https://www.wikiart.org/en/rupprecht-geiger/oe...</td>\n",
              "      <td>oe-260-1957.jpg</td>\n",
              "      <td>/color_field_painting/oe-260-1957.jpg</td>\n",
              "    </tr>\n",
              "    <tr>\n",
              "      <th>3890</th>\n",
              "      <td>Surrealism</td>\n",
              "      <td>Oscar Dominguez</td>\n",
              "      <td>M&amp;#225;quina de coser electro-sexual</td>\n",
              "      <td>1934</td>\n",
              "      <td>https://use2-uploads4.wikiart.org/images/oscar...</td>\n",
              "      <td>https://www.wikiart.org/en/oscar-dominguez/m-q...</td>\n",
              "      <td>m-quina-de-coser-electro-sexual-1934.jpg</td>\n",
              "      <td>/surrealism/m-quina-de-coser-electro-sexual-19...</td>\n",
              "    </tr>\n",
              "    <tr>\n",
              "      <th>3891</th>\n",
              "      <td>Neo-Expressionism</td>\n",
              "      <td>Georg Baselitz</td>\n",
              "      <td>Female Nude on a Kitchen Chair</td>\n",
              "      <td>1979</td>\n",
              "      <td>https://use2-uploads2.wikiart.org/images/georg...</td>\n",
              "      <td>https://www.wikiart.org/en/georg-baselitz/fema...</td>\n",
              "      <td>female-nude-on-a-kitchen-chair-1979.jpg</td>\n",
              "      <td>/neo_expressionism/female-nude-on-a-kitchen-ch...</td>\n",
              "    </tr>\n",
              "    <tr>\n",
              "      <th>3892</th>\n",
              "      <td>Expressionism</td>\n",
              "      <td>Marie Laurencin</td>\n",
              "      <td>Apollinaire and His Friends</td>\n",
              "      <td>1909</td>\n",
              "      <td>https://use2-uploads0.wikiart.org/images/marie...</td>\n",
              "      <td>https://www.wikiart.org/en/marie-laurencin/apo...</td>\n",
              "      <td>apollinaire-and-his-friends-1909.jpg</td>\n",
              "      <td>/expressionism/apollinaire-and-his-friends-190...</td>\n",
              "    </tr>\n",
              "    <tr>\n",
              "      <th>3893</th>\n",
              "      <td>Expressionism</td>\n",
              "      <td>Paula Modersohn-Becker</td>\n",
              "      <td>Worpsweder Landscape</td>\n",
              "      <td>1908</td>\n",
              "      <td>https://use2-uploads4.wikiart.org/images/paula...</td>\n",
              "      <td>https://www.wikiart.org/en/paula-modersohn-bec...</td>\n",
              "      <td>worpsweder-landscape.jpg</td>\n",
              "      <td>/expressionism/worpsweder-landscape.jpg</td>\n",
              "    </tr>\n",
              "  </tbody>\n",
              "</table>\n",
              "<p>3894 rows × 8 columns</p>\n",
              "</div>"
            ],
            "text/plain": [
              "                  Category  ...                                               path\n",
              "0            Impressionism  ...   /impressionism/in-the-luxembourg-garden-1889.jpg\n",
              "1        Neo-Expressionism  ...  /neo_expressionism/the-marriage-of-heaven-and-...\n",
              "2       Post-Impressionism  ...  /post_impressionism/uncle-piacsek-in-front-of-...\n",
              "3                   Cubism  ...         /cubism/monk-for-the-play-mazeppa-1920.jpg\n",
              "4              Romanticism  ...           /romanticism/the-defence-of-sarago-a.jpg\n",
              "...                    ...  ...                                                ...\n",
              "3889  Color Field Painting  ...              /color_field_painting/oe-260-1957.jpg\n",
              "3890            Surrealism  ...  /surrealism/m-quina-de-coser-electro-sexual-19...\n",
              "3891     Neo-Expressionism  ...  /neo_expressionism/female-nude-on-a-kitchen-ch...\n",
              "3892         Expressionism  ...  /expressionism/apollinaire-and-his-friends-190...\n",
              "3893         Expressionism  ...            /expressionism/worpsweder-landscape.jpg\n",
              "\n",
              "[3894 rows x 8 columns]"
            ]
          },
          "metadata": {
            "tags": []
          },
          "execution_count": 108
        }
      ]
    },
    {
      "cell_type": "code",
      "metadata": {
        "id": "V8tpEid-eiqb",
        "colab_type": "code",
        "outputId": "c54cdda1-f1b7-4164-9f90-cd8b214d5b19",
        "colab": {
          "base_uri": "https://localhost:8080/",
          "height": 34
        }
      },
      "source": [
        "%cd '/content/drive/My Drive/AttnGAN/data/wikiart'"
      ],
      "execution_count": 0,
      "outputs": [
        {
          "output_type": "stream",
          "text": [
            "/content/drive/My Drive/AttnGAN/data/wikiart\n"
          ],
          "name": "stdout"
        }
      ]
    },
    {
      "cell_type": "code",
      "metadata": {
        "id": "82JTfcS4uMcm",
        "colab_type": "code",
        "colab": {}
      },
      "source": [
        "image_df.to_csv('wikiartinfo.csv', index=False)"
      ],
      "execution_count": 0,
      "outputs": []
    },
    {
      "cell_type": "markdown",
      "metadata": {
        "id": "19M73tJMuSYB",
        "colab_type": "text"
      },
      "source": [
        "### Pickling filenames\n",
        "Now we have to create a `.pickle` file that contains the path to all images from \n",
        "`/content/drive/My Drive/AttnGAN/data/wikiart/images`.\n"
      ]
    },
    {
      "cell_type": "code",
      "metadata": {
        "id": "JRoD8J0R8v0i",
        "colab_type": "code",
        "colab": {}
      },
      "source": [
        "import pickle\n",
        "import random \n",
        "import pandas as pd"
      ],
      "execution_count": 0,
      "outputs": []
    },
    {
      "cell_type": "code",
      "metadata": {
        "id": "0uHfFXeQ6luW",
        "colab_type": "code",
        "outputId": "cada0339-b382-4f0e-dc18-a3bb3fd276a1",
        "colab": {
          "base_uri": "https://localhost:8080/",
          "height": 898
        }
      },
      "source": [
        "image_df = pd.read_csv('/content/drive/My Drive/AttnGAN/data/wikiart/wikiartinfo.csv')\n",
        "image_df"
      ],
      "execution_count": 0,
      "outputs": [
        {
          "output_type": "execute_result",
          "data": {
            "text/html": [
              "<div>\n",
              "<style scoped>\n",
              "    .dataframe tbody tr th:only-of-type {\n",
              "        vertical-align: middle;\n",
              "    }\n",
              "\n",
              "    .dataframe tbody tr th {\n",
              "        vertical-align: top;\n",
              "    }\n",
              "\n",
              "    .dataframe thead th {\n",
              "        text-align: right;\n",
              "    }\n",
              "</style>\n",
              "<table border=\"1\" class=\"dataframe\">\n",
              "  <thead>\n",
              "    <tr style=\"text-align: right;\">\n",
              "      <th></th>\n",
              "      <th>Category</th>\n",
              "      <th>Artist</th>\n",
              "      <th>Title</th>\n",
              "      <th>Year</th>\n",
              "      <th>Image URL</th>\n",
              "      <th>Painting Info URL</th>\n",
              "      <th>file name</th>\n",
              "      <th>path</th>\n",
              "    </tr>\n",
              "  </thead>\n",
              "  <tbody>\n",
              "    <tr>\n",
              "      <th>0</th>\n",
              "      <td>Impressionism</td>\n",
              "      <td>Charles Courtney Curran</td>\n",
              "      <td>In the Luxembourg Garden</td>\n",
              "      <td>1889</td>\n",
              "      <td>https://use2-uploads3.wikiart.org/00123/images...</td>\n",
              "      <td>https://www.wikiart.org/en/charles-courtney-cu...</td>\n",
              "      <td>in-the-luxembourg-garden-1889.jpg</td>\n",
              "      <td>/impressionism/in-the-luxembourg-garden-1889.jpg</td>\n",
              "    </tr>\n",
              "    <tr>\n",
              "      <th>1</th>\n",
              "      <td>Neo-Expressionism</td>\n",
              "      <td>Keith Haring</td>\n",
              "      <td>The Marriage of Heaven and Hell</td>\n",
              "      <td>1984</td>\n",
              "      <td>https://use2-uploads1.wikiart.org/images/keith...</td>\n",
              "      <td>https://www.wikiart.org/en/keith-haring/the-ma...</td>\n",
              "      <td>the-marriage-of-heaven-and-hell-1984.jpg</td>\n",
              "      <td>/neo_expressionism/the-marriage-of-heaven-and-...</td>\n",
              "    </tr>\n",
              "    <tr>\n",
              "      <th>2</th>\n",
              "      <td>Post-Impressionism</td>\n",
              "      <td>Jozsef Rippl-Ronai</td>\n",
              "      <td>Uncle Piacsek in front of the Black Sideboard</td>\n",
              "      <td>1906</td>\n",
              "      <td>https://use2-uploads3.wikiart.org/images/j-zse...</td>\n",
              "      <td>https://www.wikiart.org/en/jozsef-rippl-ronai/...</td>\n",
              "      <td>uncle-piacsek-in-front-of-the-black-sideboard-...</td>\n",
              "      <td>/post_impressionism/uncle-piacsek-in-front-of-...</td>\n",
              "    </tr>\n",
              "    <tr>\n",
              "      <th>3</th>\n",
              "      <td>Cubism</td>\n",
              "      <td>Vadym Meller</td>\n",
              "      <td>Monk. For the Play &amp;#39;Mazeppa&amp;#39;</td>\n",
              "      <td>1920</td>\n",
              "      <td>https://use2-uploads2.wikiart.org/00124/images...</td>\n",
              "      <td>https://www.wikiart.org/en/vadym-meller/monk-f...</td>\n",
              "      <td>monk-for-the-play-mazeppa-1920.jpg</td>\n",
              "      <td>/cubism/monk-for-the-play-mazeppa-1920.jpg</td>\n",
              "    </tr>\n",
              "    <tr>\n",
              "      <th>4</th>\n",
              "      <td>Romanticism</td>\n",
              "      <td>David Wilkie</td>\n",
              "      <td>The Defence of Sarago&amp;#231;a</td>\n",
              "      <td>1828</td>\n",
              "      <td>https://use2-uploads6.wikiart.org/images/david...</td>\n",
              "      <td>https://www.wikiart.org/en/david-wilkie/the-de...</td>\n",
              "      <td>the-defence-of-sarago-a.jpg</td>\n",
              "      <td>/romanticism/the-defence-of-sarago-a.jpg</td>\n",
              "    </tr>\n",
              "    <tr>\n",
              "      <th>...</th>\n",
              "      <td>...</td>\n",
              "      <td>...</td>\n",
              "      <td>...</td>\n",
              "      <td>...</td>\n",
              "      <td>...</td>\n",
              "      <td>...</td>\n",
              "      <td>...</td>\n",
              "      <td>...</td>\n",
              "    </tr>\n",
              "    <tr>\n",
              "      <th>3889</th>\n",
              "      <td>Color Field Painting</td>\n",
              "      <td>Rupprecht Geiger</td>\n",
              "      <td>OE 260</td>\n",
              "      <td>1957</td>\n",
              "      <td>https://use2-uploads7.wikiart.org/images/ruppr...</td>\n",
              "      <td>https://www.wikiart.org/en/rupprecht-geiger/oe...</td>\n",
              "      <td>oe-260-1957.jpg</td>\n",
              "      <td>/color_field_painting/oe-260-1957.jpg</td>\n",
              "    </tr>\n",
              "    <tr>\n",
              "      <th>3890</th>\n",
              "      <td>Surrealism</td>\n",
              "      <td>Oscar Dominguez</td>\n",
              "      <td>M&amp;#225;quina de coser electro-sexual</td>\n",
              "      <td>1934</td>\n",
              "      <td>https://use2-uploads4.wikiart.org/images/oscar...</td>\n",
              "      <td>https://www.wikiart.org/en/oscar-dominguez/m-q...</td>\n",
              "      <td>m-quina-de-coser-electro-sexual-1934.jpg</td>\n",
              "      <td>/surrealism/m-quina-de-coser-electro-sexual-19...</td>\n",
              "    </tr>\n",
              "    <tr>\n",
              "      <th>3891</th>\n",
              "      <td>Neo-Expressionism</td>\n",
              "      <td>Georg Baselitz</td>\n",
              "      <td>Female Nude on a Kitchen Chair</td>\n",
              "      <td>1979</td>\n",
              "      <td>https://use2-uploads2.wikiart.org/images/georg...</td>\n",
              "      <td>https://www.wikiart.org/en/georg-baselitz/fema...</td>\n",
              "      <td>female-nude-on-a-kitchen-chair-1979.jpg</td>\n",
              "      <td>/neo_expressionism/female-nude-on-a-kitchen-ch...</td>\n",
              "    </tr>\n",
              "    <tr>\n",
              "      <th>3892</th>\n",
              "      <td>Expressionism</td>\n",
              "      <td>Marie Laurencin</td>\n",
              "      <td>Apollinaire and His Friends</td>\n",
              "      <td>1909</td>\n",
              "      <td>https://use2-uploads0.wikiart.org/images/marie...</td>\n",
              "      <td>https://www.wikiart.org/en/marie-laurencin/apo...</td>\n",
              "      <td>apollinaire-and-his-friends-1909.jpg</td>\n",
              "      <td>/expressionism/apollinaire-and-his-friends-190...</td>\n",
              "    </tr>\n",
              "    <tr>\n",
              "      <th>3893</th>\n",
              "      <td>Expressionism</td>\n",
              "      <td>Paula Modersohn-Becker</td>\n",
              "      <td>Worpsweder Landscape</td>\n",
              "      <td>1908</td>\n",
              "      <td>https://use2-uploads4.wikiart.org/images/paula...</td>\n",
              "      <td>https://www.wikiart.org/en/paula-modersohn-bec...</td>\n",
              "      <td>worpsweder-landscape.jpg</td>\n",
              "      <td>/expressionism/worpsweder-landscape.jpg</td>\n",
              "    </tr>\n",
              "  </tbody>\n",
              "</table>\n",
              "<p>3894 rows × 8 columns</p>\n",
              "</div>"
            ],
            "text/plain": [
              "                  Category  ...                                               path\n",
              "0            Impressionism  ...   /impressionism/in-the-luxembourg-garden-1889.jpg\n",
              "1        Neo-Expressionism  ...  /neo_expressionism/the-marriage-of-heaven-and-...\n",
              "2       Post-Impressionism  ...  /post_impressionism/uncle-piacsek-in-front-of-...\n",
              "3                   Cubism  ...         /cubism/monk-for-the-play-mazeppa-1920.jpg\n",
              "4              Romanticism  ...           /romanticism/the-defence-of-sarago-a.jpg\n",
              "...                    ...  ...                                                ...\n",
              "3889  Color Field Painting  ...              /color_field_painting/oe-260-1957.jpg\n",
              "3890            Surrealism  ...  /surrealism/m-quina-de-coser-electro-sexual-19...\n",
              "3891     Neo-Expressionism  ...  /neo_expressionism/female-nude-on-a-kitchen-ch...\n",
              "3892         Expressionism  ...  /expressionism/apollinaire-and-his-friends-190...\n",
              "3893         Expressionism  ...            /expressionism/worpsweder-landscape.jpg\n",
              "\n",
              "[3894 rows x 8 columns]"
            ]
          },
          "metadata": {
            "tags": []
          },
          "execution_count": 2
        }
      ]
    },
    {
      "cell_type": "code",
      "metadata": {
        "id": "YSCAsQkk0KDp",
        "colab_type": "code",
        "outputId": "d675998a-bcf8-451d-ee85-26f40bc2386d",
        "colab": {
          "base_uri": "https://localhost:8080/",
          "height": 34
        }
      },
      "source": [
        "paths = image_df['path'].tolist()\n",
        "print(len(paths))"
      ],
      "execution_count": 0,
      "outputs": [
        {
          "output_type": "stream",
          "text": [
            "3894\n"
          ],
          "name": "stdout"
        }
      ]
    },
    {
      "cell_type": "code",
      "metadata": {
        "id": "pEbQpNKbgoDl",
        "colab_type": "code",
        "outputId": "27054cb1-5071-407d-c681-d4c7268b5380",
        "colab": {
          "base_uri": "https://localhost:8080/",
          "height": 238
        }
      },
      "source": [
        "# some image names are not saved as '.jpg', let's find out which\n",
        "for path in image_df['path'].tolist():\n",
        "  if path[-4:] != '.jpg':\n",
        "    print(path)"
      ],
      "execution_count": 0,
      "outputs": [
        {
          "output_type": "stream",
          "text": [
            "/neoclassicism/1814-koch-noahs-dankopfer-anagoria.JPG\n",
            "/neoclassicism/vernet-claude-joseph-the-night-18th-c-1.JPG\n",
            "/magic_realism/lethargic-dream-59x80-cmxcm-2002.JPG\n",
            "/neoclassicism/1804-koch-der-tod-des-oskar-anagoria.JPG\n",
            "/neoclassicism/1833-koch-serpentaralandschaft-anagoria.JPG\n",
            "/cubism/epstein-rockdrill.png\n",
            "/neoclassicism/first-consul-bonaparte-1802.png\n",
            "/expressionism/otto-mueller-t-nzerin-mit-schleier-von-einem-mann-beobachtet-ca1903.jpeg\n",
            "/northern_renaissance/quentin-metsys-madonna-col-bambino-1510-25-ca-01.JPG\n",
            "/high_renaissance/flora-1520.JPG\n",
            "/cubism/likbez-1920c-1.JPG\n",
            "/expressionism/otto-mueller-bauerngeh-ft-in-frankreich-ca1916.jpeg\n",
            "/impressionism/meditation-1889.jpeg\n"
          ],
          "name": "stdout"
        }
      ]
    },
    {
      "cell_type": "code",
      "metadata": {
        "id": "8IwvnE-5unzf",
        "colab_type": "code",
        "colab": {}
      },
      "source": [
        "paths = image_df['path'].tolist()\n",
        "new_paths = []\n",
        "for path in paths:\n",
        "  if (path[-5:] == '.jpeg'): # one way or another it doesn't take it when i say new_path = path[:-5]... \n",
        "    continue\n",
        "  if (path[-4:] == '.png'):\n",
        "    new_path = path[:-4] \n",
        "  if (path[-4:] == '.JPG'):\n",
        "    new_path = path[:-4] \n",
        "  else:\n",
        "    new_path = path.strip('/')[:-4] # the pickle file doesn't need '.jpg'\n",
        "  new_paths.append(new_path)\n",
        "\n",
        "random.shuffle(new_paths)\n",
        "\n",
        "# 80% = 3115 (train), 20% = 779 (test)\n",
        "train_paths = new_paths[:3115]\n",
        "test_paths = new_paths[3115:]\n",
        "\n",
        "with open('/content/drive/My Drive/AttnGAN/data/wikiart/train/filenames.pickle', 'wb') as f:\n",
        "  pickle.dump(train_paths, f)\n",
        "\n",
        "with open('/content/drive/My Drive/AttnGAN/data/wikiart/test/filenames.pickle', 'wb') as f:\n",
        "  pickle.dump(test_paths, f)"
      ],
      "execution_count": 0,
      "outputs": []
    },
    {
      "cell_type": "markdown",
      "metadata": {
        "id": "kwjPHkaD22j9",
        "colab_type": "text"
      },
      "source": [
        "### Prepping and creating `.txt` files for image captions"
      ]
    },
    {
      "cell_type": "code",
      "metadata": {
        "id": "zPA8aQc8B3cs",
        "colab_type": "code",
        "colab": {}
      },
      "source": [
        "import re"
      ],
      "execution_count": 0,
      "outputs": []
    },
    {
      "cell_type": "code",
      "metadata": {
        "id": "zbZ_XN3Y84Fl",
        "colab_type": "code",
        "colab": {}
      },
      "source": [
        "s = image_df['Title'].iloc[4]"
      ],
      "execution_count": 0,
      "outputs": []
    },
    {
      "cell_type": "code",
      "metadata": {
        "id": "fy0EgnXkB4eb",
        "colab_type": "code",
        "outputId": "95b23abc-b079-47c9-c72f-ea6b606f2336",
        "colab": {
          "base_uri": "https://localhost:8080/",
          "height": 34
        }
      },
      "source": [
        "re.sub('&#(\\d+);','', s )"
      ],
      "execution_count": 0,
      "outputs": [
        {
          "output_type": "execute_result",
          "data": {
            "text/plain": [
              "'The Defence of Saragoa'"
            ]
          },
          "metadata": {
            "tags": []
          },
          "execution_count": 5
        }
      ]
    },
    {
      "cell_type": "code",
      "metadata": {
        "id": "kIQkVtnSMHB2",
        "colab_type": "code",
        "colab": {}
      },
      "source": [
        "titles = image_df['Title'].tolist()\n",
        "for i, title in enumerate(titles):\n",
        "  clean_title = re.sub('&#(\\d+);','', title.lower())\n",
        "  cleaner_title = re.sub('[\\(\\)]','', clean_title)\n",
        "  cleanest_title = re.sub('-',' ', cleaner_title)\n",
        "  titles[i] = cleanest_title\n",
        "\n",
        "image_df['clean title'] = titles"
      ],
      "execution_count": 0,
      "outputs": []
    },
    {
      "cell_type": "code",
      "metadata": {
        "id": "Oubl51vkUMzV",
        "colab_type": "code",
        "colab": {}
      },
      "source": [
        "# create a folder for each category\n",
        "categories = image_df[\"Category\"].unique() # gets all unique values of the Category column\n",
        "path = '/content/drive/My Drive/AttnGAN/data/wikiart/text/'\n",
        "for category in categories:\n",
        "  first_cat = category.rsplit(',')[0] # only take the first category (some have multiple)\n",
        "  clean_category = first_cat.lower().replace(\"-\", \"_\").replace(\" \", \"_\")\n",
        "  cat_path = path + clean_category + '/'\n",
        "  if os.path.exists(cat_path):\n",
        "    continue\n",
        "  os.mkdir(cat_path)"
      ],
      "execution_count": 0,
      "outputs": []
    },
    {
      "cell_type": "code",
      "metadata": {
        "id": "_f60BkAtPAAg",
        "colab_type": "code",
        "colab": {}
      },
      "source": [
        "for i in range(len(image_df)):\n",
        "  image_path = image_df['path'].iloc[i]\n",
        "\n",
        "  text_filename = image_path.split('/')[2][:-4] + '.txt' # splits in '', folder, filename\n",
        "  folder_path = '/content/drive/My Drive/AttnGAN/data/wikiart/text/' + image_path.split('/')[1]\n",
        "  os.chdir(folder_path)\n",
        "\n",
        "  file = open(text_filename, \"w\") \n",
        "  file.write(image_df['clean title'].iloc[i]) \n",
        "  file.close() "
      ],
      "execution_count": 0,
      "outputs": []
    },
    {
      "cell_type": "code",
      "metadata": {
        "id": "KM9a2nTbbJDD",
        "colab_type": "code",
        "outputId": "eae18c73-e563-48d4-b8a9-16f6975f775e",
        "colab": {
          "base_uri": "https://localhost:8080/",
          "height": 34
        }
      },
      "source": [
        "%cd '/content/drive/My Drive/AttnGAN/data/wikiart'"
      ],
      "execution_count": 0,
      "outputs": [
        {
          "output_type": "stream",
          "text": [
            "/content/drive/My Drive/AttnGAN/data/wikiart\n"
          ],
          "name": "stdout"
        }
      ]
    },
    {
      "cell_type": "code",
      "metadata": {
        "id": "dJ6bgNr9aHh6",
        "colab_type": "code",
        "colab": {}
      },
      "source": [
        "example_captions = [\"a ballet class\", \"the plague\", \"a woman in a fight\", \n",
        "                    \"an illness\", \"abstract 2020\", \"a group of people\", \n",
        "                    \"something sad with bright colors\", \"abstract piece\", \n",
        "                    \"a painting\"]\n",
        "\n",
        "with open('example_captions.txt', 'w') as f:\n",
        "    for item in example_captions:\n",
        "        f.write(\"%s\\n\" % item)\n",
        "    f.close()\n",
        "\n",
        "# to specify the file in which example captions can be found\n",
        "with open('example_filenames.txt', 'w') as f:\n",
        "    f.write(\"example_captions\")\n",
        "    f.close()"
      ],
      "execution_count": 0,
      "outputs": []
    },
    {
      "cell_type": "markdown",
      "metadata": {
        "id": "TtfawrriNsJ-",
        "colab_type": "text"
      },
      "source": [
        "### Renaming files \n",
        "some files need to be renamed because they are saved in a different format than `.jpg`, but we want all of the files to be in that format."
      ]
    },
    {
      "cell_type": "code",
      "metadata": {
        "id": "ogMB_bFdN0td",
        "colab_type": "code",
        "colab": {}
      },
      "source": [
        "import os"
      ],
      "execution_count": 0,
      "outputs": []
    },
    {
      "cell_type": "code",
      "metadata": {
        "id": "XwLfkDQ4Nyxi",
        "colab_type": "code",
        "colab": {}
      },
      "source": [
        "def rename_files_new(): \n",
        "    data_path = '/content/drive/My Drive/AttnGAN/data/wikiart/images'\n",
        "      \n",
        "    for folder_name in os.listdir(data_path): \n",
        "      folder_path = data_path + '/' + folder_name\n",
        "      for image_name in os.listdir(folder_path):\n",
        "        if (image_name[-4:] != '.jpg'):\n",
        "          print(image_name)\n",
        "          new_image_name = image_name[:-5] + \".jpg\"\n",
        "          original_path = folder_path + '/' + image_name\n",
        "          new_path = folder_path + '/' + new_image_name\n",
        "          os.rename(original_path, new_path) \n",
        "        else:\n",
        "          continue"
      ],
      "execution_count": 0,
      "outputs": []
    },
    {
      "cell_type": "code",
      "metadata": {
        "id": "8LTDsfJvPe_h",
        "colab_type": "code",
        "outputId": "d6106c9b-dfa7-4db9-af58-6dc6f113fd76",
        "colab": {
          "base_uri": "https://localhost:8080/",
          "height": 136
        }
      },
      "source": [
        "rename_files_new() # for renaming JPG to jpg"
      ],
      "execution_count": 0,
      "outputs": [
        {
          "output_type": "stream",
          "text": [
            "likbez-1920c-1.JPG\n",
            "1814-koch-noahs-dankopfer-anagoria.JPG\n",
            "vernet-claude-joseph-the-night-18th-c-1.JPG\n",
            "1833-koch-serpentaralandschaft-anagoria.JPG\n",
            "1804-koch-der-tod-des-oskar-anagoria.JPG\n",
            "quentin-metsys-madonna-col-bambino-1510-25-ca-01.JPG\n",
            "flora-1520.JPG\n"
          ],
          "name": "stdout"
        }
      ]
    },
    {
      "cell_type": "code",
      "metadata": {
        "id": "CEw-hzqUTR4e",
        "colab_type": "code",
        "outputId": "ae026363-81ed-40ee-e4d1-d370411ed820",
        "colab": {
          "base_uri": "https://localhost:8080/",
          "height": 34
        }
      },
      "source": [
        "rename_files_new() # for renaming png to jpg"
      ],
      "execution_count": 0,
      "outputs": [
        {
          "output_type": "stream",
          "text": [
            "epstein-rockdrill.png\n"
          ],
          "name": "stdout"
        }
      ]
    },
    {
      "cell_type": "code",
      "metadata": {
        "id": "dc3lSGGeTZc-",
        "colab_type": "code",
        "outputId": "ad8d635d-bae4-468a-c11b-a38a3654e65f",
        "colab": {
          "base_uri": "https://localhost:8080/",
          "height": 68
        }
      },
      "source": [
        "rename_files_new() # for renaming jpeg to jpg"
      ],
      "execution_count": 0,
      "outputs": [
        {
          "output_type": "stream",
          "text": [
            "meditation-1889.jpeg\n",
            "otto-mueller-t-nzerin-mit-schleier-von-einem-mann-beobachtet-ca1903.jpeg\n",
            "otto-mueller-bauerngeh-ft-in-frankreich-ca1916.jpeg\n"
          ],
          "name": "stdout"
        }
      ]
    },
    {
      "cell_type": "code",
      "metadata": {
        "id": "UuVgimQseVcl",
        "colab_type": "code",
        "colab": {}
      },
      "source": [
        "data_path = '/content/drive/My Drive/AttnGAN/data/wikiart/images'\n",
        "      \n",
        "for folder_name in os.listdir(data_path): \n",
        "  folder_path = data_path + '/' + folder_name\n",
        "  for image_name in os.listdir(folder_path):\n",
        "    if (image_name[-4:] != '.jpg'):\n",
        "      print(image_name)"
      ],
      "execution_count": 0,
      "outputs": []
    },
    {
      "cell_type": "code",
      "metadata": {
        "id": "5uBVxoWuf5Fd",
        "colab_type": "code",
        "outputId": "296408cd-b47d-4567-f551-2c980c9577f0",
        "colab": {
          "base_uri": "https://localhost:8080/",
          "height": 238
        }
      },
      "source": [
        "import pandas as pd\n",
        "image_df = pd.read_csv('/content/drive/My Drive/AttnGAN/data/wikiart/wikiartinfo.csv')\n",
        "\n"
      ],
      "execution_count": 0,
      "outputs": [
        {
          "output_type": "stream",
          "text": [
            "/neoclassicism/1814-koch-noahs-dankopfer-anagoria.JPG\n",
            "/neoclassicism/vernet-claude-joseph-the-night-18th-c-1.JPG\n",
            "/magic_realism/lethargic-dream-59x80-cmxcm-2002.JPG\n",
            "/neoclassicism/1804-koch-der-tod-des-oskar-anagoria.JPG\n",
            "/neoclassicism/1833-koch-serpentaralandschaft-anagoria.JPG\n",
            "/cubism/epstein-rockdrill.png\n",
            "/neoclassicism/first-consul-bonaparte-1802.png\n",
            "/expressionism/otto-mueller-t-nzerin-mit-schleier-von-einem-mann-beobachtet-ca1903.jpeg\n",
            "/northern_renaissance/quentin-metsys-madonna-col-bambino-1510-25-ca-01.JPG\n",
            "/high_renaissance/flora-1520.JPG\n",
            "/cubism/likbez-1920c-1.JPG\n",
            "/expressionism/otto-mueller-bauerngeh-ft-in-frankreich-ca1916.jpeg\n",
            "/impressionism/meditation-1889.jpeg\n"
          ],
          "name": "stdout"
        }
      ]
    }
  ]
}