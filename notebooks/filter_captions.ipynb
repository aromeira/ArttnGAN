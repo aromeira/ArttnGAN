{
  "nbformat": 4,
  "nbformat_minor": 0,
  "metadata": {
    "colab": {
      "name": "filter_captions.ipynb",
      "provenance": [],
      "collapsed_sections": [
        "jPUAtyQuY8Ri",
        "vkjM-yxj1AaO",
        "KctubIiMQfF6"
      ]
    },
    "kernelspec": {
      "name": "python3",
      "display_name": "Python 3"
    }
  },
  "cells": [
    {
      "cell_type": "markdown",
      "metadata": {
        "id": "lud9g_2TYTEa",
        "colab_type": "text"
      },
      "source": [
        "### This notebook is for analysing the captions and filtering them.\n",
        "To do:\n",
        "- ~~filtering out named entities from the artwork captions~~\n",
        "- ~~filtering out low-frequency words from the artwork captions~~\n",
        "- ~~filtering out named entities from the newspaper captions~~\n",
        "- ~~creating a new dataset with the filtered results~~\n"
      ]
    },
    {
      "cell_type": "markdown",
      "metadata": {
        "id": "jPUAtyQuY8Ri",
        "colab_type": "text"
      },
      "source": [
        "### Filtering out named entities"
      ]
    },
    {
      "cell_type": "markdown",
      "metadata": {
        "id": "kNefy7ULZh0M",
        "colab_type": "text"
      },
      "source": [
        "Inspiration from [here](https://towardsdatascience.com/named-entity-recognition-with-nltk-and-spacy-8c4a7d88e7da)."
      ]
    },
    {
      "cell_type": "code",
      "metadata": {
        "id": "avsps7aDci8C",
        "colab_type": "code",
        "colab": {}
      },
      "source": [
        "# SpaCy's named entity recogntion\n",
        "import spacy\n",
        "from spacy import displacy\n",
        "from collections import Counter\n",
        "import en_core_web_sm\n",
        "nlp = en_core_web_sm.load()\n",
        "import pandas as pd\n",
        "from pprint import pprint"
      ],
      "execution_count": 0,
      "outputs": []
    },
    {
      "cell_type": "code",
      "metadata": {
        "id": "NpSvjTZeceXr",
        "colab_type": "code",
        "outputId": "7dfa6c23-a5a5-4053-8cd7-0991b4aa4dae",
        "colab": {
          "base_uri": "https://localhost:8080/",
          "height": 496
        }
      },
      "source": [
        "# open the image df\n",
        "csv_file = \"/content/drive/My Drive/AttnGAN/data/wikiart/wikiartinfo.csv\"\n",
        "image_df = pd.read_csv(csv_file)\n",
        "image_df.head()"
      ],
      "execution_count": 0,
      "outputs": [
        {
          "output_type": "execute_result",
          "data": {
            "text/html": [
              "<div>\n",
              "<style scoped>\n",
              "    .dataframe tbody tr th:only-of-type {\n",
              "        vertical-align: middle;\n",
              "    }\n",
              "\n",
              "    .dataframe tbody tr th {\n",
              "        vertical-align: top;\n",
              "    }\n",
              "\n",
              "    .dataframe thead th {\n",
              "        text-align: right;\n",
              "    }\n",
              "</style>\n",
              "<table border=\"1\" class=\"dataframe\">\n",
              "  <thead>\n",
              "    <tr style=\"text-align: right;\">\n",
              "      <th></th>\n",
              "      <th>Category</th>\n",
              "      <th>Artist</th>\n",
              "      <th>Title</th>\n",
              "      <th>Year</th>\n",
              "      <th>Image URL</th>\n",
              "      <th>Painting Info URL</th>\n",
              "      <th>file name</th>\n",
              "      <th>path</th>\n",
              "    </tr>\n",
              "  </thead>\n",
              "  <tbody>\n",
              "    <tr>\n",
              "      <th>0</th>\n",
              "      <td>Impressionism</td>\n",
              "      <td>Charles Courtney Curran</td>\n",
              "      <td>In the Luxembourg Garden</td>\n",
              "      <td>1889</td>\n",
              "      <td>https://use2-uploads3.wikiart.org/00123/images...</td>\n",
              "      <td>https://www.wikiart.org/en/charles-courtney-cu...</td>\n",
              "      <td>in-the-luxembourg-garden-1889.jpg</td>\n",
              "      <td>/impressionism/in-the-luxembourg-garden-1889.jpg</td>\n",
              "    </tr>\n",
              "    <tr>\n",
              "      <th>1</th>\n",
              "      <td>Neo-Expressionism</td>\n",
              "      <td>Keith Haring</td>\n",
              "      <td>The Marriage of Heaven and Hell</td>\n",
              "      <td>1984</td>\n",
              "      <td>https://use2-uploads1.wikiart.org/images/keith...</td>\n",
              "      <td>https://www.wikiart.org/en/keith-haring/the-ma...</td>\n",
              "      <td>the-marriage-of-heaven-and-hell-1984.jpg</td>\n",
              "      <td>/neo_expressionism/the-marriage-of-heaven-and-...</td>\n",
              "    </tr>\n",
              "    <tr>\n",
              "      <th>2</th>\n",
              "      <td>Post-Impressionism</td>\n",
              "      <td>Jozsef Rippl-Ronai</td>\n",
              "      <td>Uncle Piacsek in front of the Black Sideboard</td>\n",
              "      <td>1906</td>\n",
              "      <td>https://use2-uploads3.wikiart.org/images/j-zse...</td>\n",
              "      <td>https://www.wikiart.org/en/jozsef-rippl-ronai/...</td>\n",
              "      <td>uncle-piacsek-in-front-of-the-black-sideboard-...</td>\n",
              "      <td>/post_impressionism/uncle-piacsek-in-front-of-...</td>\n",
              "    </tr>\n",
              "    <tr>\n",
              "      <th>3</th>\n",
              "      <td>Cubism</td>\n",
              "      <td>Vadym Meller</td>\n",
              "      <td>Monk. For the Play &amp;#39;Mazeppa&amp;#39;</td>\n",
              "      <td>1920</td>\n",
              "      <td>https://use2-uploads2.wikiart.org/00124/images...</td>\n",
              "      <td>https://www.wikiart.org/en/vadym-meller/monk-f...</td>\n",
              "      <td>monk-for-the-play-mazeppa-1920.jpg</td>\n",
              "      <td>/cubism/monk-for-the-play-mazeppa-1920.jpg</td>\n",
              "    </tr>\n",
              "    <tr>\n",
              "      <th>4</th>\n",
              "      <td>Romanticism</td>\n",
              "      <td>David Wilkie</td>\n",
              "      <td>The Defence of Sarago&amp;#231;a</td>\n",
              "      <td>1828</td>\n",
              "      <td>https://use2-uploads6.wikiart.org/images/david...</td>\n",
              "      <td>https://www.wikiart.org/en/david-wilkie/the-de...</td>\n",
              "      <td>the-defence-of-sarago-a.jpg</td>\n",
              "      <td>/romanticism/the-defence-of-sarago-a.jpg</td>\n",
              "    </tr>\n",
              "  </tbody>\n",
              "</table>\n",
              "</div>"
            ],
            "text/plain": [
              "             Category  ...                                               path\n",
              "0       Impressionism  ...   /impressionism/in-the-luxembourg-garden-1889.jpg\n",
              "1   Neo-Expressionism  ...  /neo_expressionism/the-marriage-of-heaven-and-...\n",
              "2  Post-Impressionism  ...  /post_impressionism/uncle-piacsek-in-front-of-...\n",
              "3              Cubism  ...         /cubism/monk-for-the-play-mazeppa-1920.jpg\n",
              "4         Romanticism  ...           /romanticism/the-defence-of-sarago-a.jpg\n",
              "\n",
              "[5 rows x 8 columns]"
            ]
          },
          "metadata": {
            "tags": []
          },
          "execution_count": 2
        }
      ]
    },
    {
      "cell_type": "code",
      "metadata": {
        "id": "JZ7HaBFWciDI",
        "colab_type": "code",
        "colab": {}
      },
      "source": [
        "# apply the cleaning of the unusual characters that I did \n",
        "# before (in prep_wikiart notebook)\n",
        "titles = image_df['Title'].tolist()\n",
        "for i, title in enumerate(titles):\n",
        "  clean_title = re.sub('&#(\\d+);','', title)\n",
        "  cleaner_title = re.sub('[\\(\\)]','', clean_title)\n",
        "  cleanest_title = re.sub('-',' ', cleaner_title)\n",
        "  titles[i] = cleanest_title\n",
        "\n",
        "image_df['clean title'] = titles"
      ],
      "execution_count": 0,
      "outputs": []
    },
    {
      "cell_type": "markdown",
      "metadata": {
        "id": "IaD4DIgelJGq",
        "colab_type": "text"
      },
      "source": [
        "\"One of the nice things about Spacy is that we only need to apply nlp once, the entire background pipeline will return the objects\""
      ]
    },
    {
      "cell_type": "code",
      "metadata": {
        "id": "VMM_jVUXdxKp",
        "colab_type": "code",
        "outputId": "b2f5e810-4d83-4e12-d44b-b28f06611332",
        "colab": {
          "base_uri": "https://localhost:8080/",
          "height": 102
        }
      },
      "source": [
        "# let's see how this works:\n",
        "example_title = \"In the Luxembourg Garden\"\n",
        "example = nlp(example_title)\n",
        "pprint([(X.text, X.label_) for X in example.ents])\n",
        "pprint([(X, X.ent_iob_, X.ent_type_) for X in example])"
      ],
      "execution_count": 0,
      "outputs": [
        {
          "output_type": "stream",
          "text": [
            "[('the Luxembourg Garden', 'LOC')]\n",
            "[(In, 'O', ''),\n",
            " (the, 'B', 'LOC'),\n",
            " (Luxembourg, 'I', 'LOC'),\n",
            " (Garden, 'I', 'LOC')]\n"
          ],
          "name": "stdout"
        }
      ]
    },
    {
      "cell_type": "markdown",
      "metadata": {
        "id": "3tsOORBEl2dm",
        "colab_type": "text"
      },
      "source": [
        "Here, I created a function for filtering out some named entities and replacing them with a general word:"
      ]
    },
    {
      "cell_type": "code",
      "metadata": {
        "id": "t7avWT6uGVzU",
        "colab_type": "code",
        "colab": {}
      },
      "source": [
        "def filter_named_entities(sentence):\n",
        "  nlp_sent = nlp(sentence)\n",
        "  lo_ents = [(word.text, word.ent_type_) for word in nlp_sent]\n",
        "  \n",
        "  new_sentence = []\n",
        "  for word, label in lo_ents:\n",
        "    if label == 'LOC':\n",
        "      new_sentence.append('location')\n",
        "    elif label == 'PERSON':\n",
        "      new_sentence.append('person')\n",
        "    elif label == 'DATE':\n",
        "      new_sentence.append('date')\n",
        "    elif label == 'CARDINAL':\n",
        "      new_sentence.append('number')\n",
        "    else:\n",
        "      new_sentence.append(word)\n",
        "\n",
        "  return ' '.join(word for word in new_sentence)"
      ],
      "execution_count": 0,
      "outputs": []
    },
    {
      "cell_type": "markdown",
      "metadata": {
        "id": "xMGFiPk9mCiS",
        "colab_type": "text"
      },
      "source": [
        "Create a filtered title for every title in the dataframe:"
      ]
    },
    {
      "cell_type": "code",
      "metadata": {
        "id": "4egC0eRaHrIg",
        "colab_type": "code",
        "outputId": "99d0dbba-c239-42d0-f27a-2ec5408e29ea",
        "colab": {
          "base_uri": "https://localhost:8080/",
          "height": 119
        }
      },
      "source": [
        "titles = image_df['clean title'].tolist()\n",
        "\n",
        "for i, title in enumerate(titles):\n",
        "  new_title = filter_named_entities(title)\n",
        "  titles[i] = new_title\n",
        "\n",
        "image_df['filtered title'] = titles\n",
        "\n",
        "image_df['filtered title'].head()"
      ],
      "execution_count": 0,
      "outputs": [
        {
          "output_type": "execute_result",
          "data": {
            "text/plain": [
              "0                    In location location location\n",
              "1                  The Marriage of Heaven and Hell\n",
              "2    person person in front of the Black Sideboard\n",
              "3                      Monk . For the Play Mazeppa\n",
              "4                           The Defence of Saragoa\n",
              "Name: filtered title, dtype: object"
            ]
          },
          "metadata": {
            "tags": []
          },
          "execution_count": 8
        }
      ]
    },
    {
      "cell_type": "markdown",
      "metadata": {
        "id": "vkjM-yxj1AaO",
        "colab_type": "text"
      },
      "source": [
        "### Filtering out less frequent words"
      ]
    },
    {
      "cell_type": "code",
      "metadata": {
        "id": "KqiumfsQp_ei",
        "colab_type": "code",
        "colab": {}
      },
      "source": [
        "from collections import Counter\n",
        "import matplotlib.pyplot as plt\n",
        "%matplotlib inline"
      ],
      "execution_count": 0,
      "outputs": []
    },
    {
      "cell_type": "code",
      "metadata": {
        "id": "b0wZcMXKK90y",
        "colab_type": "code",
        "colab": {}
      },
      "source": [
        "# taking the filtered titles\n",
        "titles = image_df['filtered title']"
      ],
      "execution_count": 0,
      "outputs": []
    },
    {
      "cell_type": "code",
      "metadata": {
        "id": "0w0rQ7rv4sjT",
        "colab_type": "code",
        "colab": {}
      },
      "source": [
        "# tokenizing the titles\n",
        "title_tokens = []\n",
        "for title in titles:\n",
        "  tokenized = word_tokenize(title.lower())\n",
        "  title_tokens = title_tokens + [token for token in tokenized if len(token)>1]"
      ],
      "execution_count": 0,
      "outputs": []
    },
    {
      "cell_type": "code",
      "metadata": {
        "id": "BkW9WA8c5Ubb",
        "colab_type": "code",
        "outputId": "975012a8-1179-4968-edd0-da33f1168778",
        "colab": {
          "base_uri": "https://localhost:8080/",
          "height": 374
        }
      },
      "source": [
        "# checking which tokens appear the most in the df.\n",
        "print(\"Most common tokens:\")\n",
        "Counter(title_tokens).most_common(20)"
      ],
      "execution_count": 0,
      "outputs": [
        {
          "output_type": "stream",
          "text": [
            "Most common tokens:\n"
          ],
          "name": "stdout"
        },
        {
          "output_type": "execute_result",
          "data": {
            "text/plain": [
              "[('person', 1787),\n",
              " ('the', 1062),\n",
              " ('of', 708),\n",
              " ('and', 275),\n",
              " ('in', 263),\n",
              " ('portrait', 220),\n",
              " ('with', 212),\n",
              " ('number', 201),\n",
              " ('date', 170),\n",
              " ('location', 149),\n",
              " ('untitled', 121),\n",
              " ('at', 103),\n",
              " ('on', 99),\n",
              " ('landscape', 76),\n",
              " ('st.', 73),\n",
              " ('composition', 64),\n",
              " ('de', 63),\n",
              " ('from', 60),\n",
              " ('woman', 57),\n",
              " ('blue', 52)]"
            ]
          },
          "metadata": {
            "tags": []
          },
          "execution_count": 11
        }
      ]
    },
    {
      "cell_type": "code",
      "metadata": {
        "id": "bV2ZhPEh7yaV",
        "colab_type": "code",
        "outputId": "03c3f9dd-d6c1-4a42-d8d0-3830aaef657f",
        "colab": {
          "base_uri": "https://localhost:8080/",
          "height": 51
        }
      },
      "source": [
        "# checking how many words only appear a single time\n",
        "# in the vocabulary\n",
        "most_common = Counter(title_tokens).most_common()\n",
        "single_words_count = 0\n",
        "for word, n in most_common:\n",
        "  if n == 1:\n",
        "    single_words_count += 1\n",
        "\n",
        "print(\"Amount of unique words in the captions: \", len(most_common), \n",
        "      \"\\nAmount of single-used words in the captions: \", single_words_count)"
      ],
      "execution_count": 0,
      "outputs": [
        {
          "output_type": "stream",
          "text": [
            "Amount of unique words in the captions:  4095 \n",
            "Amount of single-used words in the captions:  2961\n"
          ],
          "name": "stdout"
        }
      ]
    },
    {
      "cell_type": "code",
      "metadata": {
        "id": "YQK7fqDV-4HS",
        "colab_type": "code",
        "outputId": "3cb3c086-55a2-4911-e566-8e17593c751b",
        "colab": {
          "base_uri": "https://localhost:8080/",
          "height": 327
        }
      },
      "source": [
        "# visualisation\n",
        "plt.bar(range(8), [elem[1] for elem in most_common[:8]], color = 'lemonchiffon')\n",
        "plt.xticks(range(8), [elem[0] for elem in most_common[:8]], rotation='vertical')\n",
        "plt.title('8 most common words in the filtered captions') "
      ],
      "execution_count": 0,
      "outputs": [
        {
          "output_type": "execute_result",
          "data": {
            "text/plain": [
              "Text(0.5, 1.0, '8 most common words in the captions')"
            ]
          },
          "metadata": {
            "tags": []
          },
          "execution_count": 111
        },
        {
          "output_type": "display_data",
          "data": {
            "image/png": "[encoded data removed]",
            "text/plain": [
              "<Figure size 432x288 with 1 Axes>"
            ]
          },
          "metadata": {
            "tags": [],
            "needs_background": "light"
          }
        }
      ]
    },
    {
      "cell_type": "code",
      "metadata": {
        "id": "atLlugrXOX5H",
        "colab_type": "code",
        "outputId": "8eb3f313-3670-4d6e-ec44-39ca63f0aeac",
        "colab": {
          "base_uri": "https://localhost:8080/",
          "height": 349
        }
      },
      "source": [
        "plt.bar(range(30), [elem[1] for elem in most_common[:30]], color = 'orange')\n",
        "plt.xticks(range(30), [elem[0] for elem in most_common[:30]], rotation='vertical')\n",
        "plt.title('30 most common words in the captions') "
      ],
      "execution_count": 0,
      "outputs": [
        {
          "output_type": "execute_result",
          "data": {
            "text/plain": [
              "Text(0.5, 1.0, '30 most common words in the captions')"
            ]
          },
          "metadata": {
            "tags": []
          },
          "execution_count": 114
        },
        {
          "output_type": "display_data",
          "data": {
            "image/png": "[encoded data removed]",
            "text/plain": [
              "<Figure size 432x288 with 1 Axes>"
            ]
          },
          "metadata": {
            "tags": [],
            "needs_background": "light"
          }
        }
      ]
    },
    {
      "cell_type": "code",
      "metadata": {
        "id": "aaS6OuckOxHq",
        "colab_type": "code",
        "outputId": "3824ce73-d9bc-430d-9545-267c84b14fd5",
        "colab": {
          "base_uri": "https://localhost:8080/",
          "height": 360
        }
      },
      "source": [
        "plt.bar(range(30), [elem[1] for elem in most_common[-30:]], color = 'orange')\n",
        "plt.xticks(range(30), [elem[0] for elem in most_common[-30:]], rotation='vertical')\n",
        "plt.title('some of the unique words') "
      ],
      "execution_count": 0,
      "outputs": [
        {
          "output_type": "execute_result",
          "data": {
            "text/plain": [
              "Text(0.5, 1.0, 'some of the unique words')"
            ]
          },
          "metadata": {
            "tags": []
          },
          "execution_count": 117
        },
        {
          "output_type": "display_data",
          "data": {
            "image/png": "[encoded data removed]",
            "text/plain": [
              "<Figure size 432x288 with 1 Axes>"
            ]
          },
          "metadata": {
            "tags": [],
            "needs_background": "light"
          }
        }
      ]
    },
    {
      "cell_type": "markdown",
      "metadata": {
        "id": "KctubIiMQfF6",
        "colab_type": "text"
      },
      "source": [
        "### Decision: \n",
        "Since the single-use words are not very significant in the vocabulary, I will filter those out & the words that are only 3 letters long (like the, and, an, etc.), which are often lexical words and thus don't really carry any meaning. This will leave me with a veryy small vocabulary but let's just do it."
      ]
    },
    {
      "cell_type": "code",
      "metadata": {
        "id": "UVEyt7nOQqns",
        "colab_type": "code",
        "colab": {}
      },
      "source": [
        "filtered_titles = image_df['filtered title'].tolist()"
      ],
      "execution_count": 0,
      "outputs": []
    },
    {
      "cell_type": "code",
      "metadata": {
        "id": "K25g1rbkefrJ",
        "colab_type": "code",
        "outputId": "99bf8ea8-3031-4cf4-a5e6-b03c79ccc29e",
        "colab": {
          "base_uri": "https://localhost:8080/",
          "height": 34
        }
      },
      "source": [
        "# creating a list of the words that appear more than once\n",
        "common_words = []\n",
        "for word, n in most_common:\n",
        "  if n != 1: \n",
        "    common_words.append(word)\n",
        "\n",
        "print(len(common_words))  "
      ],
      "execution_count": 0,
      "outputs": [
        {
          "output_type": "stream",
          "text": [
            "1134\n"
          ],
          "name": "stdout"
        }
      ]
    },
    {
      "cell_type": "code",
      "metadata": {
        "id": "QjT7fQikaD91",
        "colab_type": "code",
        "outputId": "ea6b2d54-a465-49dc-eb47-6b2a7cc2a55d",
        "colab": {
          "base_uri": "https://localhost:8080/",
          "height": 530
        }
      },
      "source": [
        "# creating a new list in the dataframe with \n",
        "# the filtered titles without the low-frequency \n",
        "# and small words. \n",
        "\n",
        "frequency_titles = []\n",
        "\n",
        "for title in filtered_titles:\n",
        "  new_title = []\n",
        "  for word in title.split(' '):\n",
        "    if (word.lower() in common_words) and (len(word)>3) and (word not in new_title):\n",
        "      new_title.append(word.lower())\n",
        "  if new_title == []:\n",
        "    new_title = [\"empty\"]\n",
        "  new_title = ' '.join(new_title)\n",
        "  frequency_titles.append(new_title)\n",
        "\n",
        "image_df[\"frequency title\"] = frequency_titles \n",
        "image_df.head()"
      ],
      "execution_count": 0,
      "outputs": [
        {
          "output_type": "execute_result",
          "data": {
            "text/html": [
              "<div>\n",
              "<style scoped>\n",
              "    .dataframe tbody tr th:only-of-type {\n",
              "        vertical-align: middle;\n",
              "    }\n",
              "\n",
              "    .dataframe tbody tr th {\n",
              "        vertical-align: top;\n",
              "    }\n",
              "\n",
              "    .dataframe thead th {\n",
              "        text-align: right;\n",
              "    }\n",
              "</style>\n",
              "<table border=\"1\" class=\"dataframe\">\n",
              "  <thead>\n",
              "    <tr style=\"text-align: right;\">\n",
              "      <th></th>\n",
              "      <th>Category</th>\n",
              "      <th>Artist</th>\n",
              "      <th>Title</th>\n",
              "      <th>Year</th>\n",
              "      <th>Image URL</th>\n",
              "      <th>Painting Info URL</th>\n",
              "      <th>file name</th>\n",
              "      <th>path</th>\n",
              "      <th>clean title</th>\n",
              "      <th>filtered title</th>\n",
              "      <th>filtered titles</th>\n",
              "      <th>frequency title</th>\n",
              "    </tr>\n",
              "  </thead>\n",
              "  <tbody>\n",
              "    <tr>\n",
              "      <th>0</th>\n",
              "      <td>Impressionism</td>\n",
              "      <td>Charles Courtney Curran</td>\n",
              "      <td>In the Luxembourg Garden</td>\n",
              "      <td>1889</td>\n",
              "      <td>https://use2-uploads3.wikiart.org/00123/images...</td>\n",
              "      <td>https://www.wikiart.org/en/charles-courtney-cu...</td>\n",
              "      <td>in-the-luxembourg-garden-1889.jpg</td>\n",
              "      <td>/impressionism/in-the-luxembourg-garden-1889.jpg</td>\n",
              "      <td>In the Luxembourg Garden</td>\n",
              "      <td>In location location location</td>\n",
              "      <td>In location location location</td>\n",
              "      <td>location</td>\n",
              "    </tr>\n",
              "    <tr>\n",
              "      <th>1</th>\n",
              "      <td>Neo-Expressionism</td>\n",
              "      <td>Keith Haring</td>\n",
              "      <td>The Marriage of Heaven and Hell</td>\n",
              "      <td>1984</td>\n",
              "      <td>https://use2-uploads1.wikiart.org/images/keith...</td>\n",
              "      <td>https://www.wikiart.org/en/keith-haring/the-ma...</td>\n",
              "      <td>the-marriage-of-heaven-and-hell-1984.jpg</td>\n",
              "      <td>/neo_expressionism/the-marriage-of-heaven-and-...</td>\n",
              "      <td>The Marriage of Heaven and Hell</td>\n",
              "      <td>The Marriage of Heaven and Hell</td>\n",
              "      <td>The Marriage of Heaven and Hell</td>\n",
              "      <td>marriage hell</td>\n",
              "    </tr>\n",
              "    <tr>\n",
              "      <th>2</th>\n",
              "      <td>Post-Impressionism</td>\n",
              "      <td>Jozsef Rippl-Ronai</td>\n",
              "      <td>Uncle Piacsek in front of the Black Sideboard</td>\n",
              "      <td>1906</td>\n",
              "      <td>https://use2-uploads3.wikiart.org/images/j-zse...</td>\n",
              "      <td>https://www.wikiart.org/en/jozsef-rippl-ronai/...</td>\n",
              "      <td>uncle-piacsek-in-front-of-the-black-sideboard-...</td>\n",
              "      <td>/post_impressionism/uncle-piacsek-in-front-of-...</td>\n",
              "      <td>Uncle Piacsek in front of the Black Sideboard</td>\n",
              "      <td>person person in front of the Black Sideboard</td>\n",
              "      <td>person person in front of the Black Sideboard</td>\n",
              "      <td>person front black</td>\n",
              "    </tr>\n",
              "    <tr>\n",
              "      <th>3</th>\n",
              "      <td>Cubism</td>\n",
              "      <td>Vadym Meller</td>\n",
              "      <td>Monk. For the Play &amp;#39;Mazeppa&amp;#39;</td>\n",
              "      <td>1920</td>\n",
              "      <td>https://use2-uploads2.wikiart.org/00124/images...</td>\n",
              "      <td>https://www.wikiart.org/en/vadym-meller/monk-f...</td>\n",
              "      <td>monk-for-the-play-mazeppa-1920.jpg</td>\n",
              "      <td>/cubism/monk-for-the-play-mazeppa-1920.jpg</td>\n",
              "      <td>Monk. For the Play Mazeppa</td>\n",
              "      <td>Monk . For the Play Mazeppa</td>\n",
              "      <td>Monk . For the Play Mazeppa</td>\n",
              "      <td>monk play</td>\n",
              "    </tr>\n",
              "    <tr>\n",
              "      <th>4</th>\n",
              "      <td>Romanticism</td>\n",
              "      <td>David Wilkie</td>\n",
              "      <td>The Defence of Sarago&amp;#231;a</td>\n",
              "      <td>1828</td>\n",
              "      <td>https://use2-uploads6.wikiart.org/images/david...</td>\n",
              "      <td>https://www.wikiart.org/en/david-wilkie/the-de...</td>\n",
              "      <td>the-defence-of-sarago-a.jpg</td>\n",
              "      <td>/romanticism/the-defence-of-sarago-a.jpg</td>\n",
              "      <td>The Defence of Saragoa</td>\n",
              "      <td>The Defence of Saragoa</td>\n",
              "      <td>The Defence of Saragoa</td>\n",
              "      <td>defence</td>\n",
              "    </tr>\n",
              "  </tbody>\n",
              "</table>\n",
              "</div>"
            ],
            "text/plain": [
              "             Category  ...     frequency title\n",
              "0       Impressionism  ...            location\n",
              "1   Neo-Expressionism  ...       marriage hell\n",
              "2  Post-Impressionism  ...  person front black\n",
              "3              Cubism  ...           monk play\n",
              "4         Romanticism  ...             defence\n",
              "\n",
              "[5 rows x 12 columns]"
            ]
          },
          "metadata": {
            "tags": []
          },
          "execution_count": 135
        }
      ]
    },
    {
      "cell_type": "markdown",
      "metadata": {
        "id": "oSoC2fsPhEva",
        "colab_type": "text"
      },
      "source": [
        "As you can see we and up with very short captions."
      ]
    },
    {
      "cell_type": "code",
      "metadata": {
        "id": "_vqYolcahb2d",
        "colab_type": "code",
        "outputId": "1784a1c9-a7ed-48fe-aeca-f1a6f8d2391f",
        "colab": {
          "base_uri": "https://localhost:8080/",
          "height": 68
        }
      },
      "source": [
        "# lets calculate how short\n",
        "sentlengths = [len(x.split()) for x in frequency_titles]\n",
        "print(\"longest caption: \", max(sentlengths), \"\\nshortest capation: \", \n",
        "      min(sentlengths), \"\\naverage caption length: \", \n",
        "      sum(sentlengths)/len(frequency_titles))"
      ],
      "execution_count": 0,
      "outputs": [
        {
          "output_type": "stream",
          "text": [
            "longest caption:  10 \n",
            "shortest capation:  1 \n",
            "average caption length:  1.7157164869029276\n"
          ],
          "name": "stdout"
        }
      ]
    },
    {
      "cell_type": "markdown",
      "metadata": {
        "id": "t6BwvLtmnJr4",
        "colab_type": "text"
      },
      "source": [
        "Now, we have to create a `.pickle` file again that contains the path to all the images that contain non-empty captions from `/content/drive/My Drive/AttnGAN/data/wikiart/images` ..."
      ]
    },
    {
      "cell_type": "code",
      "metadata": {
        "id": "-oDpHiY7nMT5",
        "colab_type": "code",
        "colab": {}
      },
      "source": [
        "import pickle\n",
        "import random \n",
        "import pandas as pd"
      ],
      "execution_count": 0,
      "outputs": []
    },
    {
      "cell_type": "code",
      "metadata": {
        "id": "tDVNoStJnYXq",
        "colab_type": "code",
        "outputId": "993ddea1-3135-42ad-d639-98cb76e7011e",
        "colab": {
          "base_uri": "https://localhost:8080/",
          "height": 360
        }
      },
      "source": [
        "# there's still something wrong with how some files\n",
        "# have been saved (i.e. containing '..jpg' instead of '.jpg')\n",
        "# let's fix that:\n",
        "\n",
        "paths = image_df['path'].tolist()\n",
        "\n",
        "for path in image_df['path'].tolist():\n",
        "  if path[-4:] != '.jpg':\n",
        "    print(path)\n",
        "    newpath = path[:-4] + \".jpg\"\n",
        "    image_df = image_df.replace(path, newpath)\n",
        "\n",
        "for path in image_df['path'].tolist():\n",
        "  if path[-5] == '.':\n",
        "    print(path)\n",
        "    newpath = path[:-5] + \".jpg\"\n",
        "    print(newpath)\n",
        "    image_df = image_df.replace(path, newpath) \n",
        "\n",
        "paths = image_df['path'].tolist()"
      ],
      "execution_count": 0,
      "outputs": [
        {
          "output_type": "stream",
          "text": [
            "/neoclassicism/1814-koch-noahs-dankopfer-anagoria.JPG\n",
            "/neoclassicism/vernet-claude-joseph-the-night-18th-c-1.JPG\n",
            "/magic_realism/lethargic-dream-59x80-cmxcm-2002.JPG\n",
            "/neoclassicism/1804-koch-der-tod-des-oskar-anagoria.JPG\n",
            "/neoclassicism/1833-koch-serpentaralandschaft-anagoria.JPG\n",
            "/cubism/epstein-rockdrill.png\n",
            "/neoclassicism/first-consul-bonaparte-1802.png\n",
            "/expressionism/otto-mueller-t-nzerin-mit-schleier-von-einem-mann-beobachtet-ca1903.jpeg\n",
            "/northern_renaissance/quentin-metsys-madonna-col-bambino-1510-25-ca-01.JPG\n",
            "/high_renaissance/flora-1520.JPG\n",
            "/cubism/likbez-1920c-1.JPG\n",
            "/expressionism/otto-mueller-bauerngeh-ft-in-frankreich-ca1916.jpeg\n",
            "/impressionism/meditation-1889.jpeg\n",
            "/expressionism/otto-mueller-t-nzerin-mit-schleier-von-einem-mann-beobachtet-ca1903..jpg\n",
            "/expressionism/otto-mueller-t-nzerin-mit-schleier-von-einem-mann-beobachtet-ca1903.jpg\n",
            "/expressionism/otto-mueller-bauerngeh-ft-in-frankreich-ca1916..jpg\n",
            "/expressionism/otto-mueller-bauerngeh-ft-in-frankreich-ca1916.jpg\n",
            "/impressionism/meditation-1889..jpg\n",
            "/impressionism/meditation-1889.jpg\n"
          ],
          "name": "stdout"
        }
      ]
    },
    {
      "cell_type": "code",
      "metadata": {
        "id": "FpHz1XmbnyZ5",
        "colab_type": "code",
        "outputId": "8a9e56b8-f125-4de1-aff1-4ee43bc5904a",
        "colab": {
          "base_uri": "https://localhost:8080/",
          "height": 51
        }
      },
      "source": [
        "# now create a new list of paths that contains all the \n",
        "# paths to the filtered captions\n",
        "frequency_paths = []\n",
        "\n",
        "for i, caption in enumerate(frequency_titles):\n",
        "  if caption != \"empty\":\n",
        "    frequency_paths.append(paths[i])\n",
        "\n",
        "print(\"number of titles, originally: \", len(frequency_titles))\n",
        "print(\"number of non-empty titles: \", len(frequency_paths))"
      ],
      "execution_count": 0,
      "outputs": [
        {
          "output_type": "stream",
          "text": [
            "number of titles, originally:  3894\n",
            "number of non-empty titles:  3178\n"
          ],
          "name": "stdout"
        }
      ]
    },
    {
      "cell_type": "code",
      "metadata": {
        "id": "JSHeOtIfnOoW",
        "colab_type": "code",
        "colab": {}
      },
      "source": [
        "# create the right format + train and test split\n",
        "new_paths = []\n",
        "for path in frequency_paths:\n",
        "  new_path = path.strip('/')[:-4] # the pickle file doesn't need '.jpg' nor the first slash \n",
        "  new_paths.append(new_path)\n",
        "\n",
        "random.shuffle(new_paths)\n",
        "\n",
        "# 80% = 2542 (train), 20% = 1352 (test)\n",
        "train_paths = new_paths[:2542]\n",
        "test_paths = new_paths[2542:]"
      ],
      "execution_count": 0,
      "outputs": []
    },
    {
      "cell_type": "code",
      "metadata": {
        "id": "FT1rAGC2pODs",
        "colab_type": "code",
        "colab": {}
      },
      "source": [
        "# dump them in pickle format\n",
        "with open('/content/drive/My Drive/AttnGAN/data/wikiart/train/filter_filenames.pickle', 'wb') as f:\n",
        "  pickle.dump(train_paths, f)\n",
        "\n",
        "with open('/content/drive/My Drive/AttnGAN/data/wikiart/test/filter_filenames.pickle', 'wb') as f:\n",
        "  pickle.dump(test_paths, f)"
      ],
      "execution_count": 0,
      "outputs": []
    },
    {
      "cell_type": "markdown",
      "metadata": {
        "id": "W1klc1Ynpesa",
        "colab_type": "text"
      },
      "source": [
        "Besides having to create a train/test split, I also need to append the new titles/captions to the captions' `.txt` file of the images. "
      ]
    },
    {
      "cell_type": "code",
      "metadata": {
        "id": "JjRLTo_qqGIg",
        "colab_type": "code",
        "colab": {}
      },
      "source": [
        "first_part = '/content/drive/My Drive/AttnGAN/data/wikiart/text/'"
      ],
      "execution_count": 0,
      "outputs": []
    },
    {
      "cell_type": "code",
      "metadata": {
        "id": "wQX1R0R-ptCM",
        "colab_type": "code",
        "colab": {}
      },
      "source": [
        "for i, filepath in enumerate(new_paths):\n",
        "  text_path = first_part + filepath + '.txt'\n",
        "\n",
        "  with open(text_path, \"a\") as txt_file:\n",
        "    txt_file.write(\"\\n\")\n",
        "    txt_file.write(frequency_titles[i])\n",
        "  txt_file.close()"
      ],
      "execution_count": 0,
      "outputs": []
    },
    {
      "cell_type": "markdown",
      "metadata": {
        "id": "9t4NceHo9_ln",
        "colab_type": "text"
      },
      "source": [
        "### Filtering the named entities from the news captions"
      ]
    },
    {
      "cell_type": "markdown",
      "metadata": {
        "id": "LOG53NPZt_y_",
        "colab_type": "text"
      },
      "source": [
        "Now, the news captions have to be filtered too. "
      ]
    },
    {
      "cell_type": "code",
      "metadata": {
        "id": "zdWXSckO-FPo",
        "colab_type": "code",
        "colab": {}
      },
      "source": [
        "import spacy\n",
        "from spacy import displacy\n",
        "from collections import Counter\n",
        "import en_core_web_sm\n",
        "nlp = en_core_web_sm.load()\n",
        "import pandas as pd"
      ],
      "execution_count": 0,
      "outputs": []
    },
    {
      "cell_type": "code",
      "metadata": {
        "id": "JSIdPPa1-mc4",
        "colab_type": "code",
        "colab": {}
      },
      "source": [
        "# fill in the right path of the captions .txt files here \n",
        "news_path = '/content/drive/My Drive/AttnGAN/data/wikiart/posneg.txt'"
      ],
      "execution_count": 0,
      "outputs": []
    },
    {
      "cell_type": "code",
      "metadata": {
        "id": "pMcr9Zb8-Kdv",
        "colab_type": "code",
        "outputId": "9b93d502-c30a-4236-85f2-286364e767bd",
        "colab": {
          "base_uri": "https://localhost:8080/",
          "height": 54
        }
      },
      "source": [
        "with open(news_path, \"r\") as f:\n",
        "  news_captions = f.read().split('\\n')\n",
        "news_captions[0]"
      ],
      "execution_count": 0,
      "outputs": [
        {
          "output_type": "execute_result",
          "data": {
            "text/plain": [
              "'the jury found mr weinstein guilty of two felony sex crimes but acquitted him of charges that he is a sexual predator'"
            ]
          },
          "metadata": {
            "tags": []
          },
          "execution_count": 16
        }
      ]
    },
    {
      "cell_type": "code",
      "metadata": {
        "id": "GsZwqYVw_PCM",
        "colab_type": "code",
        "outputId": "b8edd7a3-9b43-46cb-a1de-f4618ac6ca15",
        "colab": {
          "base_uri": "https://localhost:8080/",
          "height": 122
        }
      },
      "source": [
        "# filter the captions\n",
        "filtered_news = []\n",
        "for sentence in news_captions:\n",
        "  filter_sentence = filter_named_entities(sentence)\n",
        "  filtered_news.append(filter_sentence)\n",
        "\n",
        "filtered_news"
      ],
      "execution_count": 0,
      "outputs": [
        {
          "output_type": "execute_result",
          "data": {
            "text/plain": [
              "['The jury found mr . person guilty of number felony sex crimes but acquitted him of charges that he is a sexual predator .',\n",
              " 'The jury found mr . person guilty of number felony sex crimes but acquitted him of charges that he is a sexual predator . Off to jail . Good',\n",
              " 'The jury found mr . person guilty of number felony sex crimes but acquitted him of charges that he is a sexual predator . Finally , justice has been served . It is good to know this man is behind bars .',\n",
              " 'The jury found mr . person guilty of number felony sex crimes but acquitted him of charges that he is a sexual predator . If the women were just normal middle class victims , unlikely the case would even come to trial . No one is talking about this aspect of the case its crucial .',\n",
              " 'The jury found mr . person guilty of number felony sex crimes but acquitted him of charges that he is a sexual predator . person is a horrible human being but this was not rape . If so then I know many women who have been raped in the service of advancing their careers']"
            ]
          },
          "metadata": {
            "tags": []
          },
          "execution_count": 22
        }
      ]
    },
    {
      "cell_type": "markdown",
      "metadata": {
        "id": "3B_JPUJaBYuw",
        "colab_type": "text"
      },
      "source": [
        "Filtering it on the full vocab of our image dataset:"
      ]
    },
    {
      "cell_type": "code",
      "metadata": {
        "id": "WEHGfGwQDAZ1",
        "colab_type": "code",
        "colab": {}
      },
      "source": [
        "vocab = [word for word, n in most_common]"
      ],
      "execution_count": 0,
      "outputs": []
    },
    {
      "cell_type": "code",
      "metadata": {
        "id": "6QLo_MXJB9sn",
        "colab_type": "code",
        "outputId": "ee491742-bc45-4f74-f324-81e86ac95af5",
        "colab": {
          "base_uri": "https://localhost:8080/",
          "height": 122
        }
      },
      "source": [
        "new_captions = []\n",
        "\n",
        "for sentence in filtered_news:\n",
        "  new_sentence = []\n",
        "  for word in sentence.split(' '):\n",
        "    if (word.lower() in vocab) and (len(word)>3) and (word not in new_sentence):\n",
        "      new_sentence.append(word.lower())\n",
        "  if new_sentence == []:\n",
        "    new_sentence = [\"empty\"]\n",
        "  new_sentence = ' '.join(new_sentence)\n",
        "  new_captions.append(new_sentence)\n",
        "\n",
        "new_captions"
      ],
      "execution_count": 0,
      "outputs": [
        {
          "output_type": "execute_result",
          "data": {
            "text/plain": [
              "['found person number that sexual',\n",
              " 'found person number that sexual good',\n",
              " 'found person number that sexual justice good this',\n",
              " 'found person number that sexual women were just class case even come trial about this',\n",
              " 'found person number that sexual human this rape many women have their']"
            ]
          },
          "metadata": {
            "tags": []
          },
          "execution_count": 23
        }
      ]
    },
    {
      "cell_type": "markdown",
      "metadata": {
        "id": "QTZoIgDcCxyn",
        "colab_type": "text"
      },
      "source": [
        "Filtering it on the most-common vocab of our image dataset:"
      ]
    },
    {
      "cell_type": "code",
      "metadata": {
        "id": "yywhMZy2GBIb",
        "colab_type": "code",
        "outputId": "7af2428a-0d42-4f79-f0d9-dee984c1790a",
        "colab": {
          "base_uri": "https://localhost:8080/",
          "height": 459
        }
      },
      "source": [
        "new_captions = []\n",
        "\n",
        "for sentence in filtered_news:\n",
        "  new_sentence = []\n",
        "  for word in sentence.split(' '):\n",
        "    if (word.lower() in common_words) and (len(word)>3) and (word not in new_sentence):\n",
        "      new_sentence.append(word.lower())\n",
        "  if new_sentence == []:\n",
        "    new_sentence = [\"empty\"]\n",
        "  new_sentence = ' '.join(new_sentence)\n",
        "  new_captions.append(new_sentence)\n",
        "\n",
        "new_captions"
      ],
      "execution_count": 0,
      "outputs": [
        {
          "output_type": "execute_result",
          "data": {
            "text/plain": [
              "['after they person date',\n",
              " 'about',\n",
              " 'date',\n",
              " 'with they thought person',\n",
              " 'between person during state from',\n",
              " 'person party date only cross lines',\n",
              " 'from iowa person dead',\n",
              " 'back person after white house date colonel',\n",
              " 'that party first state number',\n",
              " 'their lines country',\n",
              " 'party wing from field that',\n",
              " 'party person',\n",
              " 'general that person',\n",
              " 'over general',\n",
              " 'from',\n",
              " 'that person number people later',\n",
              " 'last from',\n",
              " 'also number date person',\n",
              " 'moment person first',\n",
              " 'house that',\n",
              " 'front russia',\n",
              " 'triumph that still wing party',\n",
              " 'country number many around venice carnival',\n",
              " 'person number that',\n",
              " 'empty',\n",
              " 'person country that after']"
            ]
          },
          "metadata": {
            "tags": []
          },
          "execution_count": 191
        }
      ]
    },
    {
      "cell_type": "markdown",
      "metadata": {
        "id": "d8A271p6GNTh",
        "colab_type": "text"
      },
      "source": [
        "Now there are even less words from the news captions that appear in the most-common vocabulary of our image dataset, but lets make a new file from them. And also from the filtered captions of the full vocab.\n",
        "I filtered the lists manually afterwards, since some sentences really dont make any sence. "
      ]
    },
    {
      "cell_type": "code",
      "metadata": {
        "id": "QCcttlg2jKTe",
        "colab_type": "code",
        "outputId": "11b1eaca-7ae8-44ce-9486-186b06b22fab",
        "colab": {
          "base_uri": "https://localhost:8080/",
          "height": 34
        }
      },
      "source": [
        "%cd '/content/drive/My Drive/AttnGAN/data/wikiart/'\n",
        "filter_path = 'all_news_captions.txt'\n",
        "\n",
        "with open(filter_path, 'w') as f:\n",
        "    for line in new_captions:\n",
        "      if line != \"empty\":\n",
        "        f.write(\"%s\\n\" % line)\n",
        "f.close()"
      ],
      "execution_count": 0,
      "outputs": [
        {
          "output_type": "stream",
          "text": [
            "/content/drive/My Drive/AttnGAN/data/wikiart\n"
          ],
          "name": "stdout"
        }
      ]
    },
    {
      "cell_type": "code",
      "metadata": {
        "id": "xD7Q83Xrj4GG",
        "colab_type": "code",
        "colab": {}
      },
      "source": [
        "# I manually took some of them out here.\n",
        "filtered_captions = ['came after they need person date',\n",
        " 'senate victory about',\n",
        " 'date china',\n",
        " 'with they thought person',\n",
        " 'between person during state union from office',\n",
        " 'person party date only cross lines',\n",
        " 'from iowa person dead',\n",
        " 'victory strike back person union after white house date colonel',\n",
        " 'that party first state race number',\n",
        " 'return their lines holiday country',\n",
        " 'party liberal wing from field that divided',\n",
        " 'party look person',\n",
        " 'general that friend person justice department',\n",
        " 'over justice department general',\n",
        " 'from even them',\n",
        " 'that person number people later found',\n",
        " 'britain last from united',\n",
        " 'also number date person',\n",
        " 'moment person first personal',\n",
        " 'house have that',\n",
        " 'nominal front russia attack american',\n",
        " 'triumph that difficult still wing party',\n",
        " 'country number cases many around milan venice carnival',\n",
        " 'found person number that sexual',\n",
        " 'american',\n",
        " 'person country that government spread after']"
      ],
      "execution_count": 0,
      "outputs": []
    },
    {
      "cell_type": "code",
      "metadata": {
        "id": "id34xu1fmn6l",
        "colab_type": "code",
        "outputId": "8302f162-8861-44f3-d8f4-c06aec014c60",
        "colab": {
          "base_uri": "https://localhost:8080/",
          "height": 34
        }
      },
      "source": [
        "%cd '/content/drive/My Drive/AttnGAN/data/wikiart/'\n",
        "filter_path = 'news_filtered2.txt'\n",
        "\n",
        "with open(filter_path, 'w') as f:\n",
        "    for line in filtered_captions:\n",
        "      if line != \"empty\":\n",
        "        f.write(\"%s\\n\" % line)\n",
        "f.close()"
      ],
      "execution_count": 0,
      "outputs": [
        {
          "output_type": "stream",
          "text": [
            "/content/drive/My Drive/AttnGAN/data/wikiart\n"
          ],
          "name": "stdout"
        }
      ]
    }
  ]
}